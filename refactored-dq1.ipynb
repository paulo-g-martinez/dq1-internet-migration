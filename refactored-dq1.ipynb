{
 "cells": [
  {
   "cell_type": "markdown",
   "metadata": {},
   "source": [
    "# Exploring Countries' Internet Use and Migration\n",
    "- Refactored from Data-Question-1 at Nashville Software School's Data Science Program"
   ]
  },
  {
   "cell_type": "code",
   "execution_count": 2,
   "metadata": {},
   "outputs": [],
   "source": [
    "# 3 import required packages\n",
    "import pandas as pd\n",
    "import numpy as np\n",
    "import matplotlib.pyplot as plt\n",
    "import seaborn as sns"
   ]
  },
  {
   "cell_type": "code",
   "execution_count": 3,
   "metadata": {},
   "outputs": [],
   "source": [
    "plt.style.use('fivethirtyeight')"
   ]
  },
  {
   "cell_type": "code",
   "execution_count": 4,
   "metadata": {},
   "outputs": [],
   "source": [
    "# 4 show plots in notebook\n",
    "%matplotlib inline"
   ]
  },
  {
   "cell_type": "markdown",
   "metadata": {},
   "source": [
    "## Read in Data"
   ]
  },
  {
   "cell_type": "code",
   "execution_count": 5,
   "metadata": {},
   "outputs": [
    {
     "data": {
      "text/html": [
       "<div>\n",
       "<style scoped>\n",
       "    .dataframe tbody tr th:only-of-type {\n",
       "        vertical-align: middle;\n",
       "    }\n",
       "\n",
       "    .dataframe tbody tr th {\n",
       "        vertical-align: top;\n",
       "    }\n",
       "\n",
       "    .dataframe thead th {\n",
       "        text-align: right;\n",
       "    }\n",
       "</style>\n",
       "<table border=\"1\" class=\"dataframe\">\n",
       "  <thead>\n",
       "    <tr style=\"text-align: right;\">\n",
       "      <th></th>\n",
       "      <th>Country</th>\n",
       "      <th>Year</th>\n",
       "      <th>Net_Migration</th>\n",
       "    </tr>\n",
       "  </thead>\n",
       "  <tbody>\n",
       "    <tr>\n",
       "      <th>0</th>\n",
       "      <td>Afghanistan</td>\n",
       "      <td>2012</td>\n",
       "      <td>473007</td>\n",
       "    </tr>\n",
       "    <tr>\n",
       "      <th>1</th>\n",
       "      <td>Afghanistan</td>\n",
       "      <td>2007</td>\n",
       "      <td>-677497</td>\n",
       "    </tr>\n",
       "    <tr>\n",
       "      <th>2</th>\n",
       "      <td>Afghanistan</td>\n",
       "      <td>2002</td>\n",
       "      <td>804120</td>\n",
       "    </tr>\n",
       "  </tbody>\n",
       "</table>\n",
       "</div>"
      ],
      "text/plain": [
       "       Country  Year  Net_Migration\n",
       "0  Afghanistan  2012         473007\n",
       "1  Afghanistan  2007        -677497\n",
       "2  Afghanistan  2002         804120"
      ]
     },
     "execution_count": 5,
     "metadata": {},
     "output_type": "execute_result"
    }
   ],
   "source": [
    "# 5 - 6\n",
    "migration = pd.read_csv('data/net_migration.csv',\n",
    "                       usecols = (0,1,2),\n",
    "                       names = (\"Country\", \"Year\", \"Net_Migration\"),\n",
    "                       header = 0)\n",
    "migration.head(6)"
   ]
  },
  {
   "cell_type": "code",
   "execution_count": 35,
   "metadata": {},
   "outputs": [
    {
     "name": "stdout",
     "output_type": "stream",
     "text": [
      "<class 'pandas.core.frame.DataFrame'>\n",
      "RangeIndex: 2375 entries, 0 to 2374\n",
      "Data columns (total 3 columns):\n",
      "Country          2375 non-null object\n",
      "Year             2375 non-null int64\n",
      "Net_Migration    2375 non-null int64\n",
      "dtypes: int64(2), object(1)\n",
      "memory usage: 55.7+ KB\n"
     ]
    }
   ],
   "source": [
    "\n",
    "migration.info()"
   ]
  },
  {
   "cell_type": "code",
   "execution_count": 6,
   "metadata": {},
   "outputs": [
    {
     "data": {
      "text/html": [
       "<div>\n",
       "<style scoped>\n",
       "    .dataframe tbody tr th:only-of-type {\n",
       "        vertical-align: middle;\n",
       "    }\n",
       "\n",
       "    .dataframe tbody tr th {\n",
       "        vertical-align: top;\n",
       "    }\n",
       "\n",
       "    .dataframe thead th {\n",
       "        text-align: right;\n",
       "    }\n",
       "</style>\n",
       "<table border=\"1\" class=\"dataframe\">\n",
       "  <thead>\n",
       "    <tr style=\"text-align: right;\">\n",
       "      <th></th>\n",
       "      <th>Country</th>\n",
       "      <th>Year</th>\n",
       "      <th>Internet_Users_Pct</th>\n",
       "    </tr>\n",
       "  </thead>\n",
       "  <tbody>\n",
       "    <tr>\n",
       "      <th>0</th>\n",
       "      <td>Afghanistan</td>\n",
       "      <td>2014</td>\n",
       "      <td>6.39</td>\n",
       "    </tr>\n",
       "    <tr>\n",
       "      <th>1</th>\n",
       "      <td>Afghanistan</td>\n",
       "      <td>2013</td>\n",
       "      <td>5.9</td>\n",
       "    </tr>\n",
       "    <tr>\n",
       "      <th>2</th>\n",
       "      <td>Afghanistan</td>\n",
       "      <td>2012</td>\n",
       "      <td>5.45454545454545</td>\n",
       "    </tr>\n",
       "  </tbody>\n",
       "</table>\n",
       "</div>"
      ],
      "text/plain": [
       "       Country  Year Internet_Users_Pct\n",
       "0  Afghanistan  2014               6.39\n",
       "1  Afghanistan  2013                5.9\n",
       "2  Afghanistan  2012   5.45454545454545"
      ]
     },
     "execution_count": 6,
     "metadata": {},
     "output_type": "execute_result"
    }
   ],
   "source": [
    "internet_use = pd.read_csv('data/percentage_of_internet_users.csv',\n",
    "                          usecols = (0, 1, 2),\n",
    "                           header = 0,\n",
    "                          names = (\"Country\", \"Year\", \"Internet_Users_Pct\"))\n",
    "internet_use.head(6)"
   ]
  },
  {
   "cell_type": "code",
   "execution_count": 36,
   "metadata": {},
   "outputs": [
    {
     "name": "stdout",
     "output_type": "stream",
     "text": [
      "<class 'pandas.core.frame.DataFrame'>\n",
      "RangeIndex: 4495 entries, 0 to 4494\n",
      "Data columns (total 3 columns):\n",
      "Country               4495 non-null object\n",
      "Year                  4495 non-null int64\n",
      "Internet_Users_Pct    4495 non-null float64\n",
      "dtypes: float64(1), int64(1), object(1)\n",
      "memory usage: 105.4+ KB\n"
     ]
    }
   ],
   "source": [
    "internet_use.info()"
   ]
  },
  {
   "cell_type": "markdown",
   "metadata": {},
   "source": [
    "## EDA\n",
    "Exploratory Data Analysis"
   ]
  },
  {
   "cell_type": "code",
   "execution_count": 7,
   "metadata": {},
   "outputs": [
    {
     "data": {
      "text/html": [
       "<div>\n",
       "<style scoped>\n",
       "    .dataframe tbody tr th:only-of-type {\n",
       "        vertical-align: middle;\n",
       "    }\n",
       "\n",
       "    .dataframe tbody tr th {\n",
       "        vertical-align: top;\n",
       "    }\n",
       "\n",
       "    .dataframe thead th {\n",
       "        text-align: right;\n",
       "    }\n",
       "</style>\n",
       "<table border=\"1\" class=\"dataframe\">\n",
       "  <thead>\n",
       "    <tr style=\"text-align: right;\">\n",
       "      <th></th>\n",
       "      <th>Country</th>\n",
       "      <th>Year</th>\n",
       "      <th>Net_Migration</th>\n",
       "    </tr>\n",
       "  </thead>\n",
       "  <tbody>\n",
       "    <tr>\n",
       "      <th>2370</th>\n",
       "      <td>Zimbabwe</td>\n",
       "      <td>1982</td>\n",
       "      <td>141524</td>\n",
       "    </tr>\n",
       "    <tr>\n",
       "      <th>2371</th>\n",
       "      <td>Zimbabwe</td>\n",
       "      <td>1977</td>\n",
       "      <td>-101516</td>\n",
       "    </tr>\n",
       "    <tr>\n",
       "      <th>2372</th>\n",
       "      <td>Zimbabwe</td>\n",
       "      <td>1972</td>\n",
       "      <td>-30360</td>\n",
       "    </tr>\n",
       "    <tr>\n",
       "      <th>2373</th>\n",
       "      <td>Zimbabwe</td>\n",
       "      <td>1967</td>\n",
       "      <td>-27996</td>\n",
       "    </tr>\n",
       "    <tr>\n",
       "      <th>2374</th>\n",
       "      <td>Zimbabwe</td>\n",
       "      <td>1962</td>\n",
       "      <td>-10001</td>\n",
       "    </tr>\n",
       "  </tbody>\n",
       "</table>\n",
       "</div>"
      ],
      "text/plain": [
       "       Country  Year  Net_Migration\n",
       "2370  Zimbabwe  1982         141524\n",
       "2371  Zimbabwe  1977        -101516\n",
       "2372  Zimbabwe  1972         -30360\n",
       "2373  Zimbabwe  1967         -27996\n",
       "2374  Zimbabwe  1962         -10001"
      ]
     },
     "execution_count": 7,
     "metadata": {},
     "output_type": "execute_result"
    }
   ],
   "source": [
    "migration.tail()"
   ]
  },
  {
   "cell_type": "code",
   "execution_count": 8,
   "metadata": {},
   "outputs": [
    {
     "data": {
      "text/html": [
       "<div>\n",
       "<style scoped>\n",
       "    .dataframe tbody tr th:only-of-type {\n",
       "        vertical-align: middle;\n",
       "    }\n",
       "\n",
       "    .dataframe tbody tr th {\n",
       "        vertical-align: top;\n",
       "    }\n",
       "\n",
       "    .dataframe thead th {\n",
       "        text-align: right;\n",
       "    }\n",
       "</style>\n",
       "<table border=\"1\" class=\"dataframe\">\n",
       "  <thead>\n",
       "    <tr style=\"text-align: right;\">\n",
       "      <th></th>\n",
       "      <th>Country</th>\n",
       "      <th>Year</th>\n",
       "      <th>Internet_Users_Pct</th>\n",
       "    </tr>\n",
       "  </thead>\n",
       "  <tbody>\n",
       "    <tr>\n",
       "      <th>4671</th>\n",
       "      <td>176</td>\n",
       "      <td>NTIA/CPS survey.</td>\n",
       "      <td>NaN</td>\n",
       "    </tr>\n",
       "    <tr>\n",
       "      <th>4672</th>\n",
       "      <td>177</td>\n",
       "      <td>Pew Internet Project, Internet</td>\n",
       "      <td>Broadband and cell phone statistics</td>\n",
       "    </tr>\n",
       "    <tr>\n",
       "      <th>4673</th>\n",
       "      <td>178</td>\n",
       "      <td>Estimated based on Survey's results. Populatio...</td>\n",
       "      <td>NaN</td>\n",
       "    </tr>\n",
       "    <tr>\n",
       "      <th>4674</th>\n",
       "      <td>179</td>\n",
       "      <td>Preliminary. Country estimate.</td>\n",
       "      <td>NaN</td>\n",
       "    </tr>\n",
       "    <tr>\n",
       "      <th>4675</th>\n",
       "      <td>180</td>\n",
       "      <td>The methodology used to estimated the figure f...</td>\n",
       "      <td>NaN</td>\n",
       "    </tr>\n",
       "  </tbody>\n",
       "</table>\n",
       "</div>"
      ],
      "text/plain": [
       "     Country                                               Year  \\\n",
       "4671     176                                   NTIA/CPS survey.   \n",
       "4672     177                     Pew Internet Project, Internet   \n",
       "4673     178  Estimated based on Survey's results. Populatio...   \n",
       "4674     179                     Preliminary. Country estimate.   \n",
       "4675     180  The methodology used to estimated the figure f...   \n",
       "\n",
       "                        Internet_Users_Pct  \n",
       "4671                                   NaN  \n",
       "4672   Broadband and cell phone statistics  \n",
       "4673                                   NaN  \n",
       "4674                                   NaN  \n",
       "4675                                   NaN  "
      ]
     },
     "execution_count": 8,
     "metadata": {},
     "output_type": "execute_result"
    }
   ],
   "source": [
    "internet_use.tail()"
   ]
  },
  {
   "cell_type": "markdown",
   "metadata": {},
   "source": [
    "## Clean Data\n",
    "- notice that rows after 4495 are footnotes and do not correspond to tidy data rows\n",
    "    - Drop those rows"
   ]
  },
  {
   "cell_type": "code",
   "execution_count": 9,
   "metadata": {},
   "outputs": [
    {
     "data": {
      "text/html": [
       "<div>\n",
       "<style scoped>\n",
       "    .dataframe tbody tr th:only-of-type {\n",
       "        vertical-align: middle;\n",
       "    }\n",
       "\n",
       "    .dataframe tbody tr th {\n",
       "        vertical-align: top;\n",
       "    }\n",
       "\n",
       "    .dataframe thead th {\n",
       "        text-align: right;\n",
       "    }\n",
       "</style>\n",
       "<table border=\"1\" class=\"dataframe\">\n",
       "  <thead>\n",
       "    <tr style=\"text-align: right;\">\n",
       "      <th></th>\n",
       "      <th>Country</th>\n",
       "      <th>Year</th>\n",
       "      <th>Internet_Users_Pct</th>\n",
       "    </tr>\n",
       "  </thead>\n",
       "  <tbody>\n",
       "    <tr>\n",
       "      <th>4494</th>\n",
       "      <td>Zimbabwe</td>\n",
       "      <td>1990</td>\n",
       "      <td>0.0</td>\n",
       "    </tr>\n",
       "  </tbody>\n",
       "</table>\n",
       "</div>"
      ],
      "text/plain": [
       "       Country  Year  Internet_Users_Pct\n",
       "4494  Zimbabwe  1990                 0.0"
      ]
     },
     "execution_count": 9,
     "metadata": {},
     "output_type": "execute_result"
    }
   ],
   "source": [
    "internet_use = pd.read_csv('data/percentage_of_internet_users.csv',\n",
    "                          usecols = (0, 1, 2),\n",
    "                           header = 0,\n",
    "                          names = (\"Country\", \"Year\", \"Internet_Users_Pct\"),\n",
    "                          nrows = 4495)\n",
    "internet_use[4494:]"
   ]
  },
  {
   "cell_type": "code",
   "execution_count": 10,
   "metadata": {},
   "outputs": [
    {
     "data": {
      "text/html": [
       "<div>\n",
       "<style scoped>\n",
       "    .dataframe tbody tr th:only-of-type {\n",
       "        vertical-align: middle;\n",
       "    }\n",
       "\n",
       "    .dataframe tbody tr th {\n",
       "        vertical-align: top;\n",
       "    }\n",
       "\n",
       "    .dataframe thead th {\n",
       "        text-align: right;\n",
       "    }\n",
       "</style>\n",
       "<table border=\"1\" class=\"dataframe\">\n",
       "  <thead>\n",
       "    <tr style=\"text-align: right;\">\n",
       "      <th></th>\n",
       "      <th>Country</th>\n",
       "      <th>Year</th>\n",
       "      <th>Internet_Users_Pct</th>\n",
       "    </tr>\n",
       "  </thead>\n",
       "  <tbody>\n",
       "    <tr>\n",
       "      <th>4490</th>\n",
       "      <td>Zimbabwe</td>\n",
       "      <td>1997</td>\n",
       "      <td>0.033080</td>\n",
       "    </tr>\n",
       "    <tr>\n",
       "      <th>4491</th>\n",
       "      <td>Zimbabwe</td>\n",
       "      <td>1996</td>\n",
       "      <td>0.016790</td>\n",
       "    </tr>\n",
       "    <tr>\n",
       "      <th>4492</th>\n",
       "      <td>Zimbabwe</td>\n",
       "      <td>1995</td>\n",
       "      <td>0.007684</td>\n",
       "    </tr>\n",
       "    <tr>\n",
       "      <th>4493</th>\n",
       "      <td>Zimbabwe</td>\n",
       "      <td>1994</td>\n",
       "      <td>0.001739</td>\n",
       "    </tr>\n",
       "    <tr>\n",
       "      <th>4494</th>\n",
       "      <td>Zimbabwe</td>\n",
       "      <td>1990</td>\n",
       "      <td>0.000000</td>\n",
       "    </tr>\n",
       "  </tbody>\n",
       "</table>\n",
       "</div>"
      ],
      "text/plain": [
       "       Country  Year  Internet_Users_Pct\n",
       "4490  Zimbabwe  1997            0.033080\n",
       "4491  Zimbabwe  1996            0.016790\n",
       "4492  Zimbabwe  1995            0.007684\n",
       "4493  Zimbabwe  1994            0.001739\n",
       "4494  Zimbabwe  1990            0.000000"
      ]
     },
     "execution_count": 10,
     "metadata": {},
     "output_type": "execute_result"
    }
   ],
   "source": [
    "internet_use.tail()"
   ]
  },
  {
   "cell_type": "markdown",
   "metadata": {},
   "source": [
    "## Inner merge the two dataframes on country and year"
   ]
  },
  {
   "cell_type": "code",
   "execution_count": 11,
   "metadata": {},
   "outputs": [],
   "source": [
    "# 10\n",
    "merged_dfs = pd.merge(migration, internet_use, \n",
    "                     how = 'inner', on = (\"Country\", \"Year\"))"
   ]
  },
  {
   "cell_type": "code",
   "execution_count": 12,
   "metadata": {},
   "outputs": [
    {
     "data": {
      "text/html": [
       "<div>\n",
       "<style scoped>\n",
       "    .dataframe tbody tr th:only-of-type {\n",
       "        vertical-align: middle;\n",
       "    }\n",
       "\n",
       "    .dataframe tbody tr th {\n",
       "        vertical-align: top;\n",
       "    }\n",
       "\n",
       "    .dataframe thead th {\n",
       "        text-align: right;\n",
       "    }\n",
       "</style>\n",
       "<table border=\"1\" class=\"dataframe\">\n",
       "  <thead>\n",
       "    <tr style=\"text-align: right;\">\n",
       "      <th></th>\n",
       "      <th>Country</th>\n",
       "      <th>Year</th>\n",
       "      <th>Net_Migration</th>\n",
       "      <th>Internet_Users_Pct</th>\n",
       "    </tr>\n",
       "  </thead>\n",
       "  <tbody>\n",
       "    <tr>\n",
       "      <th>0</th>\n",
       "      <td>Afghanistan</td>\n",
       "      <td>2012</td>\n",
       "      <td>473007</td>\n",
       "      <td>5.454545</td>\n",
       "    </tr>\n",
       "    <tr>\n",
       "      <th>1</th>\n",
       "      <td>Afghanistan</td>\n",
       "      <td>2007</td>\n",
       "      <td>-677497</td>\n",
       "      <td>1.900000</td>\n",
       "    </tr>\n",
       "    <tr>\n",
       "      <th>2</th>\n",
       "      <td>Afghanistan</td>\n",
       "      <td>2002</td>\n",
       "      <td>804120</td>\n",
       "      <td>0.004561</td>\n",
       "    </tr>\n",
       "    <tr>\n",
       "      <th>3</th>\n",
       "      <td>Albania</td>\n",
       "      <td>2012</td>\n",
       "      <td>-91750</td>\n",
       "      <td>54.655959</td>\n",
       "    </tr>\n",
       "    <tr>\n",
       "      <th>4</th>\n",
       "      <td>Albania</td>\n",
       "      <td>2007</td>\n",
       "      <td>-252926</td>\n",
       "      <td>15.036115</td>\n",
       "    </tr>\n",
       "  </tbody>\n",
       "</table>\n",
       "</div>"
      ],
      "text/plain": [
       "       Country  Year  Net_Migration  Internet_Users_Pct\n",
       "0  Afghanistan  2012         473007            5.454545\n",
       "1  Afghanistan  2007        -677497            1.900000\n",
       "2  Afghanistan  2002         804120            0.004561\n",
       "3      Albania  2012         -91750           54.655959\n",
       "4      Albania  2007        -252926           15.036115"
      ]
     },
     "execution_count": 12,
     "metadata": {},
     "output_type": "execute_result"
    }
   ],
   "source": [
    "# 11\n",
    "merged_dfs.head()"
   ]
  },
  {
   "cell_type": "code",
   "execution_count": 37,
   "metadata": {},
   "outputs": [
    {
     "data": {
      "text/html": [
       "<div>\n",
       "<style scoped>\n",
       "    .dataframe tbody tr th:only-of-type {\n",
       "        vertical-align: middle;\n",
       "    }\n",
       "\n",
       "    .dataframe tbody tr th {\n",
       "        vertical-align: top;\n",
       "    }\n",
       "\n",
       "    .dataframe thead th {\n",
       "        text-align: right;\n",
       "    }\n",
       "</style>\n",
       "<table border=\"1\" class=\"dataframe\">\n",
       "  <thead>\n",
       "    <tr style=\"text-align: right;\">\n",
       "      <th></th>\n",
       "      <th>Country</th>\n",
       "      <th>Year</th>\n",
       "      <th>Net_Migration</th>\n",
       "      <th>Internet_Users_Pct</th>\n",
       "    </tr>\n",
       "  </thead>\n",
       "  <tbody>\n",
       "    <tr>\n",
       "      <th>710</th>\n",
       "      <td>Zambia</td>\n",
       "      <td>1997</td>\n",
       "      <td>79445</td>\n",
       "      <td>0.009330</td>\n",
       "    </tr>\n",
       "    <tr>\n",
       "      <th>711</th>\n",
       "      <td>Zimbabwe</td>\n",
       "      <td>2012</td>\n",
       "      <td>-219922</td>\n",
       "      <td>17.090000</td>\n",
       "    </tr>\n",
       "    <tr>\n",
       "      <th>712</th>\n",
       "      <td>Zimbabwe</td>\n",
       "      <td>2007</td>\n",
       "      <td>-307650</td>\n",
       "      <td>10.850000</td>\n",
       "    </tr>\n",
       "    <tr>\n",
       "      <th>713</th>\n",
       "      <td>Zimbabwe</td>\n",
       "      <td>2002</td>\n",
       "      <td>-395554</td>\n",
       "      <td>3.994356</td>\n",
       "    </tr>\n",
       "    <tr>\n",
       "      <th>714</th>\n",
       "      <td>Zimbabwe</td>\n",
       "      <td>1997</td>\n",
       "      <td>-200000</td>\n",
       "      <td>0.033080</td>\n",
       "    </tr>\n",
       "  </tbody>\n",
       "</table>\n",
       "</div>"
      ],
      "text/plain": [
       "      Country  Year  Net_Migration  Internet_Users_Pct\n",
       "710    Zambia  1997          79445            0.009330\n",
       "711  Zimbabwe  2012        -219922           17.090000\n",
       "712  Zimbabwe  2007        -307650           10.850000\n",
       "713  Zimbabwe  2002        -395554            3.994356\n",
       "714  Zimbabwe  1997        -200000            0.033080"
      ]
     },
     "execution_count": 37,
     "metadata": {},
     "output_type": "execute_result"
    }
   ],
   "source": [
    "merged_dfs.tail() # 12"
   ]
  },
  {
   "cell_type": "markdown",
   "metadata": {},
   "source": [
    "### take some slices of the data by specific years"
   ]
  },
  {
   "cell_type": "code",
   "execution_count": 14,
   "metadata": {},
   "outputs": [
    {
     "data": {
      "text/plain": [
       "2007    168\n",
       "2012    167\n",
       "2002    164\n",
       "Name: Year, dtype: int64"
      ]
     },
     "execution_count": 14,
     "metadata": {},
     "output_type": "execute_result"
    }
   ],
   "source": [
    "# 13\n",
    "years_of_interest = [2002, 2007, 2012]\n",
    "\n",
    "# use a list comprehension to define the boolean index for the subset\n",
    "subset_df = merged_dfs[[yr in years_of_interest for yr in merged_dfs.Year]]\n",
    "\n",
    "# spot check\n",
    "subset_df.Year.value_counts()"
   ]
  },
  {
   "cell_type": "code",
   "execution_count": 13,
   "metadata": {},
   "outputs": [],
   "source": [
    "# 14\n",
    "df2002 = merged_dfs.query('2001 < Year < 2003')\n",
    "df2007 = merged_dfs[merged_dfs.Year == 2007]\n",
    "df2012 = merged_dfs[merged_dfs.Year == 2012]"
   ]
  },
  {
   "cell_type": "markdown",
   "metadata": {},
   "source": [
    "## Which Country had the highest and lowest percent of internet users for each year of interest?"
   ]
  },
  {
   "cell_type": "code",
   "execution_count": 46,
   "metadata": {},
   "outputs": [],
   "source": [
    "# enable some print formatting classes\n",
    "class pformat:\n",
    "    PURPLE = '\\033[95m'\n",
    "    CYAN = '\\033[96m'\n",
    "    DARKCYAN = '\\033[36m'\n",
    "    BLUE = '\\033[94m'\n",
    "    GREEN = '\\033[92m'\n",
    "    YELLOW = '\\033[93m'\n",
    "    RED = '\\033[91m'\n",
    "    BOLD = '\\033[1m'\n",
    "    UNDERLINE = '\\033[4m'\n",
    "    END = '\\033[0m'"
   ]
  },
  {
   "cell_type": "code",
   "execution_count": 47,
   "metadata": {},
   "outputs": [
    {
     "name": "stdout",
     "output_type": "stream",
     "text": [
      "\n",
      "\u001b[1m\u001b[4mCountry with highest internet use:\u001b[0m\n",
      "     Country  Year  Net_Migration  Internet_Users_Pct\n",
      "296  Iceland  2002           3894               79.12\n",
      "\n",
      "\u001b[1m\u001b[4mCountry with lowest internet use:\u001b[0m\n",
      "         Country  Year  Net_Migration  Internet_Users_Pct\n",
      "641  Timor-Leste  2002             12                 0.0\n",
      "======================================================================\n",
      "\n",
      "\u001b[1m\u001b[4mCountry with highest internet use:\u001b[0m\n",
      "     Country  Year  Net_Migration  Internet_Users_Pct\n",
      "295  Iceland  2007           8041                90.6\n",
      "\n",
      "\u001b[1m\u001b[4mCountry with lowest internet use:\u001b[0m\n",
      "         Country  Year  Net_Migration  Internet_Users_Pct\n",
      "640  Timor-Leste  2007        -104946            0.140959\n",
      "======================================================================\n",
      "\n",
      "\u001b[1m\u001b[4mCountry with highest internet use:\u001b[0m\n",
      "     Country  Year  Net_Migration  Internet_Users_Pct\n",
      "294  Iceland  2012           -378             96.2098\n",
      "\n",
      "\u001b[1m\u001b[4mCountry with lowest internet use:\u001b[0m\n",
      "     Country  Year  Net_Migration  Internet_Users_Pct\n",
      "202  Eritrea  2012        -160001                 0.8\n",
      "======================================================================\n"
     ]
    }
   ],
   "source": [
    "# 18 - 20\n",
    "dfs_of_interest = [df2002, df2007, df2012]\n",
    "for df in dfs_of_interest:\n",
    "    print(\"\")\n",
    "    print(pformat.BOLD + pformat.UNDERLINE + 'Country with highest internet use:' + pformat.END)\n",
    "    print(df.sort_values(by = 'Internet_Users_Pct', \n",
    "                         ascending = False).head(1))\n",
    "    print('')\n",
    "    print(pformat.BOLD + pformat.UNDERLINE + 'Country with lowest internet use:' + pformat.END)\n",
    "    print(df.sort_values(by = 'Internet_Users_Pct',\n",
    "                        ascending = True).head(1))\n",
    "    print(\"=\"*70)"
   ]
  },
  {
   "cell_type": "markdown",
   "metadata": {},
   "source": [
    "## Which Country had the highest and lowest net migration for the year of interest?"
   ]
  },
  {
   "cell_type": "code",
   "execution_count": 48,
   "metadata": {},
   "outputs": [
    {
     "name": "stdout",
     "output_type": "stream",
     "text": [
      "\u001b[1m\u001b[4mCountry with highest net migration:\u001b[0m\n",
      "           Country  Year  Net_Migration  Internet_Users_Pct\n",
      "688  United States  2002        5149157           58.785404\n",
      "\n",
      "\u001b[1m\u001b[4mCountry with lowest net migration:\u001b[0m\n",
      "    Country  Year  Net_Migration  Internet_Users_Pct\n",
      "420  Mexico  2002       -2841190                11.9\n",
      "====================================================================== \n",
      "\n",
      "\u001b[1m\u001b[4mCountry with highest net migration:\u001b[0m\n",
      "           Country  Year  Net_Migration  Internet_Users_Pct\n",
      "687  United States  2007        5070253                75.0\n",
      "\n",
      "\u001b[1m\u001b[4mCountry with lowest net migration:\u001b[0m\n",
      "       Country  Year  Net_Migration  Internet_Users_Pct\n",
      "49  Bangladesh  2007       -3570954                 1.8\n",
      "====================================================================== \n",
      "\n",
      "\u001b[1m\u001b[4mCountry with highest net migration:\u001b[0m\n",
      "           Country  Year  Net_Migration  Internet_Users_Pct\n",
      "686  United States  2012        5007887                79.3\n",
      "\n",
      "\u001b[1m\u001b[4mCountry with lowest net migration:\u001b[0m\n",
      "    Country  Year  Net_Migration  Internet_Users_Pct\n",
      "299   India  2012       -2598218           12.580061\n",
      "====================================================================== \n",
      "\n"
     ]
    }
   ],
   "source": [
    "for df in dfs_of_interest:\n",
    "    print(pformat.BOLD + pformat.UNDERLINE +'Country with highest net migration:' + pformat.END)\n",
    "    print(df.sort_values(by = 'Net_Migration', \n",
    "                         ascending = False).head(1))\n",
    "    print('')\n",
    "    print(pformat.BOLD + pformat.UNDERLINE +'Country with lowest net migration:' + pformat.END)\n",
    "    print(df.sort_values(by = 'Net_Migration',\n",
    "                        ascending = True).head(1))\n",
    "    print(\"=\"*70, \"\\n\")"
   ]
  },
  {
   "cell_type": "markdown",
   "metadata": {},
   "source": [
    "## Visualize some scatterplots of the relationship between internet use and migration for the years of interest"
   ]
  },
  {
   "cell_type": "code",
   "execution_count": 44,
   "metadata": {},
   "outputs": [
    {
     "data": {
      "text/html": [
       "\n",
       "    <div class=\"bk-root\">\n",
       "        <a href=\"https://bokeh.pydata.org\" target=\"_blank\" class=\"bk-logo bk-logo-small bk-logo-notebook\"></a>\n",
       "        <span id=\"eb0f8257-0479-48af-8341-3be2de1b1bb6\">Loading BokehJS ...</span>\n",
       "    </div>"
      ]
     },
     "metadata": {},
     "output_type": "display_data"
    },
    {
     "data": {
      "application/javascript": [
       "\n",
       "(function(root) {\n",
       "  function now() {\n",
       "    return new Date();\n",
       "  }\n",
       "\n",
       "  var force = true;\n",
       "\n",
       "  if (typeof (root._bokeh_onload_callbacks) === \"undefined\" || force === true) {\n",
       "    root._bokeh_onload_callbacks = [];\n",
       "    root._bokeh_is_loading = undefined;\n",
       "  }\n",
       "\n",
       "  var JS_MIME_TYPE = 'application/javascript';\n",
       "  var HTML_MIME_TYPE = 'text/html';\n",
       "  var EXEC_MIME_TYPE = 'application/vnd.bokehjs_exec.v0+json';\n",
       "  var CLASS_NAME = 'output_bokeh rendered_html';\n",
       "\n",
       "  /**\n",
       "   * Render data to the DOM node\n",
       "   */\n",
       "  function render(props, node) {\n",
       "    var script = document.createElement(\"script\");\n",
       "    node.appendChild(script);\n",
       "  }\n",
       "\n",
       "  /**\n",
       "   * Handle when an output is cleared or removed\n",
       "   */\n",
       "  function handleClearOutput(event, handle) {\n",
       "    var cell = handle.cell;\n",
       "\n",
       "    var id = cell.output_area._bokeh_element_id;\n",
       "    var server_id = cell.output_area._bokeh_server_id;\n",
       "    // Clean up Bokeh references\n",
       "    if (id !== undefined) {\n",
       "      Bokeh.index[id].model.document.clear();\n",
       "      delete Bokeh.index[id];\n",
       "    }\n",
       "\n",
       "    if (server_id !== undefined) {\n",
       "      // Clean up Bokeh references\n",
       "      var cmd = \"from bokeh.io.state import curstate; print(curstate().uuid_to_server['\" + server_id + \"'].get_sessions()[0].document.roots[0]._id)\";\n",
       "      cell.notebook.kernel.execute(cmd, {\n",
       "        iopub: {\n",
       "          output: function(msg) {\n",
       "            var element_id = msg.content.text.trim();\n",
       "            Bokeh.index[element_id].model.document.clear();\n",
       "            delete Bokeh.index[element_id];\n",
       "          }\n",
       "        }\n",
       "      });\n",
       "      // Destroy server and session\n",
       "      var cmd = \"import bokeh.io.notebook as ion; ion.destroy_server('\" + server_id + \"')\";\n",
       "      cell.notebook.kernel.execute(cmd);\n",
       "    }\n",
       "  }\n",
       "\n",
       "  /**\n",
       "   * Handle when a new output is added\n",
       "   */\n",
       "  function handleAddOutput(event, handle) {\n",
       "    var output_area = handle.output_area;\n",
       "    var output = handle.output;\n",
       "\n",
       "    // limit handleAddOutput to display_data with EXEC_MIME_TYPE content only\n",
       "    if ((output.output_type != \"display_data\") || (!output.data.hasOwnProperty(EXEC_MIME_TYPE))) {\n",
       "      return\n",
       "    }\n",
       "\n",
       "    var toinsert = output_area.element.find(\".\" + CLASS_NAME.split(' ')[0]);\n",
       "\n",
       "    if (output.metadata[EXEC_MIME_TYPE][\"id\"] !== undefined) {\n",
       "      toinsert[toinsert.length - 1].firstChild.textContent = output.data[JS_MIME_TYPE];\n",
       "      // store reference to embed id on output_area\n",
       "      output_area._bokeh_element_id = output.metadata[EXEC_MIME_TYPE][\"id\"];\n",
       "    }\n",
       "    if (output.metadata[EXEC_MIME_TYPE][\"server_id\"] !== undefined) {\n",
       "      var bk_div = document.createElement(\"div\");\n",
       "      bk_div.innerHTML = output.data[HTML_MIME_TYPE];\n",
       "      var script_attrs = bk_div.children[0].attributes;\n",
       "      for (var i = 0; i < script_attrs.length; i++) {\n",
       "        toinsert[toinsert.length - 1].firstChild.setAttribute(script_attrs[i].name, script_attrs[i].value);\n",
       "      }\n",
       "      // store reference to server id on output_area\n",
       "      output_area._bokeh_server_id = output.metadata[EXEC_MIME_TYPE][\"server_id\"];\n",
       "    }\n",
       "  }\n",
       "\n",
       "  function register_renderer(events, OutputArea) {\n",
       "\n",
       "    function append_mime(data, metadata, element) {\n",
       "      // create a DOM node to render to\n",
       "      var toinsert = this.create_output_subarea(\n",
       "        metadata,\n",
       "        CLASS_NAME,\n",
       "        EXEC_MIME_TYPE\n",
       "      );\n",
       "      this.keyboard_manager.register_events(toinsert);\n",
       "      // Render to node\n",
       "      var props = {data: data, metadata: metadata[EXEC_MIME_TYPE]};\n",
       "      render(props, toinsert[toinsert.length - 1]);\n",
       "      element.append(toinsert);\n",
       "      return toinsert\n",
       "    }\n",
       "\n",
       "    /* Handle when an output is cleared or removed */\n",
       "    events.on('clear_output.CodeCell', handleClearOutput);\n",
       "    events.on('delete.Cell', handleClearOutput);\n",
       "\n",
       "    /* Handle when a new output is added */\n",
       "    events.on('output_added.OutputArea', handleAddOutput);\n",
       "\n",
       "    /**\n",
       "     * Register the mime type and append_mime function with output_area\n",
       "     */\n",
       "    OutputArea.prototype.register_mime_type(EXEC_MIME_TYPE, append_mime, {\n",
       "      /* Is output safe? */\n",
       "      safe: true,\n",
       "      /* Index of renderer in `output_area.display_order` */\n",
       "      index: 0\n",
       "    });\n",
       "  }\n",
       "\n",
       "  // register the mime type if in Jupyter Notebook environment and previously unregistered\n",
       "  if (root.Jupyter !== undefined) {\n",
       "    var events = require('base/js/events');\n",
       "    var OutputArea = require('notebook/js/outputarea').OutputArea;\n",
       "\n",
       "    if (OutputArea.prototype.mime_types().indexOf(EXEC_MIME_TYPE) == -1) {\n",
       "      register_renderer(events, OutputArea);\n",
       "    }\n",
       "  }\n",
       "\n",
       "  \n",
       "  if (typeof (root._bokeh_timeout) === \"undefined\" || force === true) {\n",
       "    root._bokeh_timeout = Date.now() + 5000;\n",
       "    root._bokeh_failed_load = false;\n",
       "  }\n",
       "\n",
       "  var NB_LOAD_WARNING = {'data': {'text/html':\n",
       "     \"<div style='background-color: #fdd'>\\n\"+\n",
       "     \"<p>\\n\"+\n",
       "     \"BokehJS does not appear to have successfully loaded. If loading BokehJS from CDN, this \\n\"+\n",
       "     \"may be due to a slow or bad network connection. Possible fixes:\\n\"+\n",
       "     \"</p>\\n\"+\n",
       "     \"<ul>\\n\"+\n",
       "     \"<li>re-rerun `output_notebook()` to attempt to load from CDN again, or</li>\\n\"+\n",
       "     \"<li>use INLINE resources instead, as so:</li>\\n\"+\n",
       "     \"</ul>\\n\"+\n",
       "     \"<code>\\n\"+\n",
       "     \"from bokeh.resources import INLINE\\n\"+\n",
       "     \"output_notebook(resources=INLINE)\\n\"+\n",
       "     \"</code>\\n\"+\n",
       "     \"</div>\"}};\n",
       "\n",
       "  function display_loaded() {\n",
       "    var el = document.getElementById(\"eb0f8257-0479-48af-8341-3be2de1b1bb6\");\n",
       "    if (el != null) {\n",
       "      el.textContent = \"BokehJS is loading...\";\n",
       "    }\n",
       "    if (root.Bokeh !== undefined) {\n",
       "      if (el != null) {\n",
       "        el.textContent = \"BokehJS \" + root.Bokeh.version + \" successfully loaded.\";\n",
       "      }\n",
       "    } else if (Date.now() < root._bokeh_timeout) {\n",
       "      setTimeout(display_loaded, 100)\n",
       "    }\n",
       "  }\n",
       "\n",
       "\n",
       "  function run_callbacks() {\n",
       "    try {\n",
       "      root._bokeh_onload_callbacks.forEach(function(callback) { callback() });\n",
       "    }\n",
       "    finally {\n",
       "      delete root._bokeh_onload_callbacks\n",
       "    }\n",
       "    console.info(\"Bokeh: all callbacks have finished\");\n",
       "  }\n",
       "\n",
       "  function load_libs(js_urls, callback) {\n",
       "    root._bokeh_onload_callbacks.push(callback);\n",
       "    if (root._bokeh_is_loading > 0) {\n",
       "      console.log(\"Bokeh: BokehJS is being loaded, scheduling callback at\", now());\n",
       "      return null;\n",
       "    }\n",
       "    if (js_urls == null || js_urls.length === 0) {\n",
       "      run_callbacks();\n",
       "      return null;\n",
       "    }\n",
       "    console.log(\"Bokeh: BokehJS not loaded, scheduling load and callback at\", now());\n",
       "    root._bokeh_is_loading = js_urls.length;\n",
       "    for (var i = 0; i < js_urls.length; i++) {\n",
       "      var url = js_urls[i];\n",
       "      var s = document.createElement('script');\n",
       "      s.src = url;\n",
       "      s.async = false;\n",
       "      s.onreadystatechange = s.onload = function() {\n",
       "        root._bokeh_is_loading--;\n",
       "        if (root._bokeh_is_loading === 0) {\n",
       "          console.log(\"Bokeh: all BokehJS libraries loaded\");\n",
       "          run_callbacks()\n",
       "        }\n",
       "      };\n",
       "      s.onerror = function() {\n",
       "        console.warn(\"failed to load library \" + url);\n",
       "      };\n",
       "      console.log(\"Bokeh: injecting script tag for BokehJS library: \", url);\n",
       "      document.getElementsByTagName(\"head\")[0].appendChild(s);\n",
       "    }\n",
       "  };var element = document.getElementById(\"eb0f8257-0479-48af-8341-3be2de1b1bb6\");\n",
       "  if (element == null) {\n",
       "    console.log(\"Bokeh: ERROR: autoload.js configured with elementid 'eb0f8257-0479-48af-8341-3be2de1b1bb6' but no matching script tag was found. \")\n",
       "    return false;\n",
       "  }\n",
       "\n",
       "  var js_urls = [\"https://cdn.pydata.org/bokeh/release/bokeh-0.12.16.min.js\", \"https://cdn.pydata.org/bokeh/release/bokeh-widgets-0.12.16.min.js\", \"https://cdn.pydata.org/bokeh/release/bokeh-tables-0.12.16.min.js\", \"https://cdn.pydata.org/bokeh/release/bokeh-gl-0.12.16.min.js\"];\n",
       "\n",
       "  var inline_js = [\n",
       "    function(Bokeh) {\n",
       "      Bokeh.set_log_level(\"info\");\n",
       "    },\n",
       "    \n",
       "    function(Bokeh) {\n",
       "      \n",
       "    },\n",
       "    function(Bokeh) {\n",
       "      console.log(\"Bokeh: injecting CSS: https://cdn.pydata.org/bokeh/release/bokeh-0.12.16.min.css\");\n",
       "      Bokeh.embed.inject_css(\"https://cdn.pydata.org/bokeh/release/bokeh-0.12.16.min.css\");\n",
       "      console.log(\"Bokeh: injecting CSS: https://cdn.pydata.org/bokeh/release/bokeh-widgets-0.12.16.min.css\");\n",
       "      Bokeh.embed.inject_css(\"https://cdn.pydata.org/bokeh/release/bokeh-widgets-0.12.16.min.css\");\n",
       "      console.log(\"Bokeh: injecting CSS: https://cdn.pydata.org/bokeh/release/bokeh-tables-0.12.16.min.css\");\n",
       "      Bokeh.embed.inject_css(\"https://cdn.pydata.org/bokeh/release/bokeh-tables-0.12.16.min.css\");\n",
       "    }\n",
       "  ];\n",
       "\n",
       "  function run_inline_js() {\n",
       "    \n",
       "    if ((root.Bokeh !== undefined) || (force === true)) {\n",
       "      for (var i = 0; i < inline_js.length; i++) {\n",
       "        inline_js[i].call(root, root.Bokeh);\n",
       "      }if (force === true) {\n",
       "        display_loaded();\n",
       "      }} else if (Date.now() < root._bokeh_timeout) {\n",
       "      setTimeout(run_inline_js, 100);\n",
       "    } else if (!root._bokeh_failed_load) {\n",
       "      console.log(\"Bokeh: BokehJS failed to load within specified timeout.\");\n",
       "      root._bokeh_failed_load = true;\n",
       "    } else if (force !== true) {\n",
       "      var cell = $(document.getElementById(\"eb0f8257-0479-48af-8341-3be2de1b1bb6\")).parents('.cell').data().cell;\n",
       "      cell.output_area.append_execute_result(NB_LOAD_WARNING)\n",
       "    }\n",
       "\n",
       "  }\n",
       "\n",
       "  if (root._bokeh_is_loading === 0) {\n",
       "    console.log(\"Bokeh: BokehJS loaded, going straight to plotting\");\n",
       "    run_inline_js();\n",
       "  } else {\n",
       "    load_libs(js_urls, function() {\n",
       "      console.log(\"Bokeh: BokehJS plotting callback run at\", now());\n",
       "      run_inline_js();\n",
       "    });\n",
       "  }\n",
       "}(window));"
      ],
      "application/vnd.bokehjs_load.v0+json": "\n(function(root) {\n  function now() {\n    return new Date();\n  }\n\n  var force = true;\n\n  if (typeof (root._bokeh_onload_callbacks) === \"undefined\" || force === true) {\n    root._bokeh_onload_callbacks = [];\n    root._bokeh_is_loading = undefined;\n  }\n\n  \n\n  \n  if (typeof (root._bokeh_timeout) === \"undefined\" || force === true) {\n    root._bokeh_timeout = Date.now() + 5000;\n    root._bokeh_failed_load = false;\n  }\n\n  var NB_LOAD_WARNING = {'data': {'text/html':\n     \"<div style='background-color: #fdd'>\\n\"+\n     \"<p>\\n\"+\n     \"BokehJS does not appear to have successfully loaded. If loading BokehJS from CDN, this \\n\"+\n     \"may be due to a slow or bad network connection. Possible fixes:\\n\"+\n     \"</p>\\n\"+\n     \"<ul>\\n\"+\n     \"<li>re-rerun `output_notebook()` to attempt to load from CDN again, or</li>\\n\"+\n     \"<li>use INLINE resources instead, as so:</li>\\n\"+\n     \"</ul>\\n\"+\n     \"<code>\\n\"+\n     \"from bokeh.resources import INLINE\\n\"+\n     \"output_notebook(resources=INLINE)\\n\"+\n     \"</code>\\n\"+\n     \"</div>\"}};\n\n  function display_loaded() {\n    var el = document.getElementById(\"eb0f8257-0479-48af-8341-3be2de1b1bb6\");\n    if (el != null) {\n      el.textContent = \"BokehJS is loading...\";\n    }\n    if (root.Bokeh !== undefined) {\n      if (el != null) {\n        el.textContent = \"BokehJS \" + root.Bokeh.version + \" successfully loaded.\";\n      }\n    } else if (Date.now() < root._bokeh_timeout) {\n      setTimeout(display_loaded, 100)\n    }\n  }\n\n\n  function run_callbacks() {\n    try {\n      root._bokeh_onload_callbacks.forEach(function(callback) { callback() });\n    }\n    finally {\n      delete root._bokeh_onload_callbacks\n    }\n    console.info(\"Bokeh: all callbacks have finished\");\n  }\n\n  function load_libs(js_urls, callback) {\n    root._bokeh_onload_callbacks.push(callback);\n    if (root._bokeh_is_loading > 0) {\n      console.log(\"Bokeh: BokehJS is being loaded, scheduling callback at\", now());\n      return null;\n    }\n    if (js_urls == null || js_urls.length === 0) {\n      run_callbacks();\n      return null;\n    }\n    console.log(\"Bokeh: BokehJS not loaded, scheduling load and callback at\", now());\n    root._bokeh_is_loading = js_urls.length;\n    for (var i = 0; i < js_urls.length; i++) {\n      var url = js_urls[i];\n      var s = document.createElement('script');\n      s.src = url;\n      s.async = false;\n      s.onreadystatechange = s.onload = function() {\n        root._bokeh_is_loading--;\n        if (root._bokeh_is_loading === 0) {\n          console.log(\"Bokeh: all BokehJS libraries loaded\");\n          run_callbacks()\n        }\n      };\n      s.onerror = function() {\n        console.warn(\"failed to load library \" + url);\n      };\n      console.log(\"Bokeh: injecting script tag for BokehJS library: \", url);\n      document.getElementsByTagName(\"head\")[0].appendChild(s);\n    }\n  };var element = document.getElementById(\"eb0f8257-0479-48af-8341-3be2de1b1bb6\");\n  if (element == null) {\n    console.log(\"Bokeh: ERROR: autoload.js configured with elementid 'eb0f8257-0479-48af-8341-3be2de1b1bb6' but no matching script tag was found. \")\n    return false;\n  }\n\n  var js_urls = [\"https://cdn.pydata.org/bokeh/release/bokeh-0.12.16.min.js\", \"https://cdn.pydata.org/bokeh/release/bokeh-widgets-0.12.16.min.js\", \"https://cdn.pydata.org/bokeh/release/bokeh-tables-0.12.16.min.js\", \"https://cdn.pydata.org/bokeh/release/bokeh-gl-0.12.16.min.js\"];\n\n  var inline_js = [\n    function(Bokeh) {\n      Bokeh.set_log_level(\"info\");\n    },\n    \n    function(Bokeh) {\n      \n    },\n    function(Bokeh) {\n      console.log(\"Bokeh: injecting CSS: https://cdn.pydata.org/bokeh/release/bokeh-0.12.16.min.css\");\n      Bokeh.embed.inject_css(\"https://cdn.pydata.org/bokeh/release/bokeh-0.12.16.min.css\");\n      console.log(\"Bokeh: injecting CSS: https://cdn.pydata.org/bokeh/release/bokeh-widgets-0.12.16.min.css\");\n      Bokeh.embed.inject_css(\"https://cdn.pydata.org/bokeh/release/bokeh-widgets-0.12.16.min.css\");\n      console.log(\"Bokeh: injecting CSS: https://cdn.pydata.org/bokeh/release/bokeh-tables-0.12.16.min.css\");\n      Bokeh.embed.inject_css(\"https://cdn.pydata.org/bokeh/release/bokeh-tables-0.12.16.min.css\");\n    }\n  ];\n\n  function run_inline_js() {\n    \n    if ((root.Bokeh !== undefined) || (force === true)) {\n      for (var i = 0; i < inline_js.length; i++) {\n        inline_js[i].call(root, root.Bokeh);\n      }if (force === true) {\n        display_loaded();\n      }} else if (Date.now() < root._bokeh_timeout) {\n      setTimeout(run_inline_js, 100);\n    } else if (!root._bokeh_failed_load) {\n      console.log(\"Bokeh: BokehJS failed to load within specified timeout.\");\n      root._bokeh_failed_load = true;\n    } else if (force !== true) {\n      var cell = $(document.getElementById(\"eb0f8257-0479-48af-8341-3be2de1b1bb6\")).parents('.cell').data().cell;\n      cell.output_area.append_execute_result(NB_LOAD_WARNING)\n    }\n\n  }\n\n  if (root._bokeh_is_loading === 0) {\n    console.log(\"Bokeh: BokehJS loaded, going straight to plotting\");\n    run_inline_js();\n  } else {\n    load_libs(js_urls, function() {\n      console.log(\"Bokeh: BokehJS plotting callback run at\", now());\n      run_inline_js();\n    });\n  }\n}(window));"
     },
     "metadata": {},
     "output_type": "display_data"
    }
   ],
   "source": [
    "from bokeh.plotting import figure, show, output_notebook\n",
    "output_notebook()"
   ]
  },
  {
   "cell_type": "code",
   "execution_count": 45,
   "metadata": {},
   "outputs": [],
   "source": [
    "from bokeh.models import HoverTool"
   ]
  },
  {
   "cell_type": "code",
   "execution_count": 52,
   "metadata": {},
   "outputs": [
    {
     "data": {
      "text/html": [
       "\n",
       "<div class=\"bk-root\">\n",
       "    <div class=\"bk-plotdiv\" id=\"e82cecf9-f140-4d37-a986-3614f67e388d\"></div>\n",
       "</div>"
      ]
     },
     "metadata": {},
     "output_type": "display_data"
    },
    {
     "data": {
      "application/javascript": [
       "(function(root) {\n",
       "  function embed_document(root) {\n",
       "    \n",
       "  var docs_json = {\"4a408b9a-fad0-4c52-a7c6-d8196132106f\":{\"roots\":{\"references\":[{\"attributes\":{},\"id\":\"5fb80f38-3762-4be6-8782-b9ab08358aa1\",\"type\":\"Selection\"},{\"attributes\":{},\"id\":\"145478e5-da72-4531-93f7-6fcfa3870bb2\",\"type\":\"BasicTicker\"},{\"attributes\":{\"callback\":null},\"id\":\"807f43c8-6c5f-401b-a1b8-b22434b9120f\",\"type\":\"TapTool\"},{\"attributes\":{},\"id\":\"013d3a8e-7599-44b0-a2d5-f48b151d90f9\",\"type\":\"UnionRenderers\"},{\"attributes\":{\"bottom_units\":\"screen\",\"fill_alpha\":{\"value\":0.5},\"fill_color\":{\"value\":\"lightgrey\"},\"left_units\":\"screen\",\"level\":\"overlay\",\"line_alpha\":{\"value\":1.0},\"line_color\":{\"value\":\"black\"},\"line_dash\":[4,4],\"line_width\":{\"value\":2},\"plot\":null,\"render_mode\":\"css\",\"right_units\":\"screen\",\"top_units\":\"screen\"},\"id\":\"3359ca2a-1968-4eff-b3e7-837c21cde7fc\",\"type\":\"BoxAnnotation\"},{\"attributes\":{\"fill_color\":{\"value\":\"#1f77b4\"},\"size\":{\"units\":\"screen\",\"value\":6},\"x\":{\"field\":\"x\"},\"y\":{\"field\":\"y\"}},\"id\":\"bdea7524-cd3a-4dfc-822a-43e17bf7bb0c\",\"type\":\"Circle\"},{\"attributes\":{\"callback\":null,\"renderers\":\"auto\"},\"id\":\"22ca7606-8083-4edb-8e81-f935e1f639e6\",\"type\":\"HoverTool\"},{\"attributes\":{},\"id\":\"ce9da216-7247-4389-8797-66b78340997c\",\"type\":\"CrosshairTool\"},{\"attributes\":{},\"id\":\"45a2fb90-8747-4eaa-91be-d69ad6ced764\",\"type\":\"ZoomOutTool\"},{\"attributes\":{},\"id\":\"61b6f66e-1196-47b8-aa01-e0c46cbd119b\",\"type\":\"ResetTool\"},{\"attributes\":{\"click_policy\":\"mute\",\"items\":[{\"id\":\"3c703161-e0a3-4c86-a5ed-b1dca35727b2\",\"type\":\"LegendItem\"},{\"id\":\"24642c13-93a4-4cb7-ae06-0c93124ead72\",\"type\":\"LegendItem\"},{\"id\":\"49335761-0164-4200-b856-6e7f8a5fb4e7\",\"type\":\"LegendItem\"}],\"plot\":{\"id\":\"96272d70-d276-489a-9d9c-d6b3c787da5d\",\"subtype\":\"Figure\",\"type\":\"Plot\"}},\"id\":\"01d74e5f-adcc-4a00-ba8a-11a04b294119\",\"type\":\"Legend\"},{\"attributes\":{\"fill_alpha\":{\"value\":0.5},\"fill_color\":{\"value\":\"lightgrey\"},\"level\":\"overlay\",\"line_alpha\":{\"value\":1.0},\"line_color\":{\"value\":\"black\"},\"line_dash\":[4,4],\"line_width\":{\"value\":2},\"plot\":null,\"xs_units\":\"screen\",\"ys_units\":\"screen\"},\"id\":\"027319e1-4169-4780-b330-f17ab95a3fe5\",\"type\":\"PolyAnnotation\"},{\"attributes\":{\"fill_color\":{\"value\":\"#1f77b4\"},\"size\":{\"units\":\"screen\",\"value\":6},\"x\":{\"field\":\"x\"},\"y\":{\"field\":\"y\"}},\"id\":\"510ff45f-a4f1-4dd6-a430-acf22db8c982\",\"type\":\"Circle\"},{\"attributes\":{},\"id\":\"d35bf4c0-44c5-4828-bee5-c77eb4e10dd0\",\"type\":\"UndoTool\"},{\"attributes\":{\"callback\":null},\"id\":\"97615746-260c-4ae6-bcba-d18e34990eff\",\"type\":\"DataRange1d\"},{\"attributes\":{\"fill_alpha\":{\"value\":0.1},\"fill_color\":{\"value\":\"#1f77b4\"},\"line_alpha\":{\"value\":0.1},\"line_color\":{\"value\":\"#1f77b4\"},\"size\":{\"units\":\"screen\",\"value\":6},\"x\":{\"field\":\"x\"},\"y\":{\"field\":\"y\"}},\"id\":\"cbc4b69e-24db-4dc8-bd67-5c40f7dc7614\",\"type\":\"Circle\"},{\"attributes\":{},\"id\":\"a5a2d991-a6db-4d7e-87c4-832b50cf66d5\",\"type\":\"SaveTool\"},{\"attributes\":{\"data_source\":{\"id\":\"69424689-0665-4ec8-95e4-725dc75957b6\",\"type\":\"ColumnDataSource\"},\"glyph\":{\"id\":\"955385de-2941-4b7c-a585-db41f2f8bd18\",\"type\":\"Circle\"},\"hover_glyph\":{\"id\":\"bdea7524-cd3a-4dfc-822a-43e17bf7bb0c\",\"type\":\"Circle\"},\"muted_glyph\":{\"id\":\"c113cc1b-786d-495c-a379-d43c93421fee\",\"type\":\"Circle\"},\"nonselection_glyph\":{\"id\":\"0c649b16-9e1e-4c61-8a15-1870044085b5\",\"type\":\"Circle\"},\"selection_glyph\":null,\"view\":{\"id\":\"e502fcc9-cf34-456c-b2f6-b8712344eb11\",\"type\":\"CDSView\"}},\"id\":\"1c0e7065-478e-4d48-9361-4d3dc82bfc0c\",\"type\":\"GlyphRenderer\"},{\"attributes\":{},\"id\":\"1d4f1541-4777-4928-b2ba-bfb6962323a9\",\"type\":\"LinearScale\"},{\"attributes\":{},\"id\":\"3e827b7f-492d-443e-9de6-b74df240c9c3\",\"type\":\"Selection\"},{\"attributes\":{\"fill_alpha\":{\"value\":0.1},\"fill_color\":{\"value\":\"#1f77b4\"},\"line_alpha\":{\"value\":0.1},\"line_color\":{\"value\":\"#1f77b4\"},\"size\":{\"units\":\"screen\",\"value\":6},\"x\":{\"field\":\"x\"},\"y\":{\"field\":\"y\"}},\"id\":\"0c649b16-9e1e-4c61-8a15-1870044085b5\",\"type\":\"Circle\"},{\"attributes\":{\"fill_alpha\":{\"value\":0.2},\"fill_color\":{\"value\":\"red\"},\"line_color\":{\"value\":\"red\"},\"size\":{\"units\":\"screen\",\"value\":6},\"x\":{\"field\":\"x\"},\"y\":{\"field\":\"y\"}},\"id\":\"955385de-2941-4b7c-a585-db41f2f8bd18\",\"type\":\"Circle\"},{\"attributes\":{\"axis_label\":\"Net Migration\",\"formatter\":{\"id\":\"8c03d6cc-9609-442c-b795-348d82be4d37\",\"type\":\"BasicTickFormatter\"},\"plot\":{\"id\":\"96272d70-d276-489a-9d9c-d6b3c787da5d\",\"subtype\":\"Figure\",\"type\":\"Plot\"},\"ticker\":{\"id\":\"2c9afd1e-e8fa-4e59-b564-056606305e00\",\"type\":\"BasicTicker\"}},\"id\":\"265f2774-0015-490d-b192-b76bf1ce4aa5\",\"type\":\"LinearAxis\"},{\"attributes\":{\"callback\":null,\"overlay\":{\"id\":\"027319e1-4169-4780-b330-f17ab95a3fe5\",\"type\":\"PolyAnnotation\"}},\"id\":\"2f79a46b-ad58-4ff8-83d8-6579170a69a1\",\"type\":\"LassoSelectTool\"},{\"attributes\":{\"callback\":null,\"data\":{\"x\":{\"__ndarray__\":\"86JIMfiucj+yZgtyF/fYP1VAg9Ncd/k/U4X7Q9pN0T8AAAAAAAApQEwDcc6lwyVAbXJrrtFd/z/NzMzMzMwyQEjhehSuR0JAtLhD8bT/E0DmrUsL/AwyQI+8mHPo6ME/Vp70ORnWO0BW6U+25eYhQArXo3A9KkdAwW2iWay8FkAP1brCh37mP5lNvF4W0Po/jXYU2wLwCEC5F4AWpy8FQKByFnVeFgtAs8XfcYFMIkBn+y8D5qguQClcj8L1KCJA9LhpHSC6yT8o7yWcN0S+PwgeQmfJDc0/+BUfIYUY1z/P0fw68ctOQAJZaClqJgxAIydRUcVBxT+amZmZmRk2QMYQ61AAYhJAZmZmZmZmEkCdTHMMfsHhP3YFxvYU5TNAOtUJHBPe3z/D9Shcj8IxQCFU/XwoKg5AUrgehetRPECuR+F6FO43QAAAAAAAEFBARh4/Xosq3z+rr7ZYDgsRQGZmZmZmZv4/PMJTC4KO1D/H6SwlShHNP8P1KFyPwkRAEynjYvSIsj8tCfczUJwYQNejcD0KN09ArkfhehQuPkCqiHTGgmYgQO8tebhQCP8/PO7BRvBn+T8pXI/C9WhIQOOOdNKvkeo/16NwPQpXLUAEfXu/hoQtQIggQzI6MT9AOkJY3ksiC0DEu4afvbrZP5DEWScuXvA/DoZCxwCX7D/yHVMDe8cEQOxRuB6FqzBASOF6FK7HU0AX/Q5tI5v4P1M9UsG1EgFAAAAAAAAA4D+amZmZmdk5QFdZosO8wzFACtejcD0KPEBmZmZmZmYYQLCCQMgOTEdA0ZkoKyUaGEDWRsir3Mv6P7Yxi7UKU/M/AAAAAAAABEDPAnG5eH8kQHE9Ctej8DVAAAAAAAAAHED0AlzC1FfxP3nZcHDMv6A/RJdkipH0AUBxPQrXo7AxQOxRuB6F60NAYRRymvm91T94cfpXOYjLPymMn0dKK0BACBJtjRxkFUBWYClb1A/NP+xRuB6F6zxAvxksliY/1z96FWAFWIEkQM3MzMzMzCdA/GHZ80VMDkDdLO5wC1EAQFBqdCts/AJAsrG9Nn6d0D+BdWqpX/M7P91+Mi/REQVA7RLQ2ngH1D+F61G4HqVOQMuQdsPJYzZAaxmfH1aKTUBh699JiG/7P9bOgTeIRsA/0zYk8nKC1D/2KFyPwjVSQJ8HA4hbfhtAy3O06JGeBECCwdF+QQkhQAiB/L2BJfU/3iN3CjK4/D/uhi/2E+8hQD+v4BdAVBFAZmZmZmYmNUAfhetRuF4zQPN1f6EyjDFA5ta9K8dzJEBSuB6F61EaQAHk/h38vNI/8eN71Wr1AUCkmNnjmVIeQBB11hzwiRlAlDGCEnAa8D9sD3dHvJssQPeJjfqvjcY/AAAAAACAR0BSuB6F6xFEQESy2zHB1jtAZN0TNLoP4D/7aU+h5Ji9P2oM08Ne1xpApHA9CtdjNEAC2AkKiM7wPyFGBwDJMhZAcsnJ0WYg3D/ViO5GcqUQQJ2oJ7krD/0/FK5H4XqkUUAzMzMzM7NOQBPeI6ifZaw/HiLWiF56zD/BSnkWACAeQAAAAAAAAAAAAAAAAAAA8D870GgYJUIHQPPTPzKp/zVA27Ye4/QCFUDD9Shcj8ImQB7dHIYhVtM/vfmX7PyU2D/Svbj1bvv9PxKZbC4FUTxAPQrXo3A9TECnT00diGRNQPLRMMzE1iZAppwjDKBP8T9ro/EsjxQMQCw0yx6TfjtAdlI+iniT3j/O9jP9cPQPQA==\",\"dtype\":\"float64\",\"shape\":[164]},\"y\":[804120,-175406,-205228,172594,-282,-90000,-143966,6263,178117,10655,133500,-1700003,-77,-6382,247560,5797,98831,34976,-89995,34820,21278,0,2294,-83002,-125000,112532,-35156,-90000,1026702,-9859,218966,93789,-2144051,-159003,-10000,41792,-370000,-2580,-149998,61830,47402,46306,-18151,-120002,-312786,25000,110001,-18406,-83182,-61797,31935,739395,77,9566,-309021,1217,165518,113586,-4132,-9556,-199998,-368004,-30000,-139999,-149999,66163,3894,-2206411,-851310,-266320,199949,102935,1624300,-91999,622058,-93897,44530,25144,-2039,139000,-82692,550110,-34493,-50000,-11679,-83738,14473,-5000,-36820,490830,-105,-67110,5760,30000,-19372,-2841190,-12079,-15001,-694821,37504,-1372688,-50000,-922843,144620,4771,134629,-173998,-28497,-170000,67400,40452,-896486,16119,0,-46919,-634999,-1097371,38050,178353,-145704,185343,-490472,-72601,-15726,-5599,945000,-151131,2513,500000,435595,1199,14998,-4898,-200000,1072076,2829228,-449480,-5200,-430000,-22142,-46077,141723,186125,-96542,-295952,1102862,12,-9994,-8129,-13159,-139045,-100002,-114454,-5000,-165445,1180000,968350,5149157,-104000,-449997,-502,-5272,-93014,-395554]},\"selected\":{\"id\":\"a373a785-5998-41e0-9ac0-c5b9949c3f4f\",\"type\":\"Selection\"},\"selection_policy\":{\"id\":\"0f3310d7-e0ef-46e5-9b91-a08146e91fd7\",\"type\":\"UnionRenderers\"}},\"id\":\"69424689-0665-4ec8-95e4-725dc75957b6\",\"type\":\"ColumnDataSource\"},{\"attributes\":{\"fill_alpha\":{\"value\":0.1},\"fill_color\":{\"value\":\"red\"},\"line_alpha\":{\"value\":0.1},\"line_color\":{\"value\":\"red\"},\"size\":{\"units\":\"screen\",\"value\":6},\"x\":{\"field\":\"x\"},\"y\":{\"field\":\"y\"}},\"id\":\"c113cc1b-786d-495c-a379-d43c93421fee\",\"type\":\"Circle\"},{\"attributes\":{\"callback\":null,\"data\":{\"x\":{\"__ndarray__\":\"ZmZmZmZm/j9UAwS4fRIuQDAGKnUC5yJAmpmZmZmZCUAAAAAAAABBQK9BUIlW8jlAbFdWc8MVGEBmZmZmZuY+QM3MzMzMXFFASOF6FK5XUUAUrkfhehQtQBSuR+F6dEBAzczMzMzM/D+amZmZmRlNQDMzMzMzszNAXI/C9SgcUECamZmZmZk4QKRwPQrXo/w/rkfhehSuF0Dxg3vznP8kQOxRuB6F6ztAH4XrUbgeFUDhehSuR+E+QNejcD0KV0ZAUrgehevRQEAAAAAAAADoP2ZmZmZmZuY/XI/C9Shc3z9xPQrXo3AHQM3MzMzMTFJAduwsMAKRIEAOVRqZdhzrPzMzMzMz80FAAAAAAAAAMEDNzMzMzMw1QAAAAAAAAARAZmZmZmZmPEDNzMzMzMz8P7gehetRuERA4XoUrkdhJ0DD9Shcj2JEQNejcD0K90lAUrgehetBVUDsUbgehev5P5qZmZmZmSVAcT0K16NwGECd9YHe+en4Pz0K16NwPdo/XI/C9SiMUECuR+F6FK7XPwA1w4KwyyVAUrgehesxVED2KFyPwoVQQNejcD0KlzxA/MfApWkRF0CF61G4HoUgQArXo3A9ylJAzczMzMzMDkBxPQrXo/BBQArXo3A9SjZAfMM0uEITR0AzMzMzMzMdQHSb85L39eg/G4SXyYGmAUCamZmZmZkrQM3MzMzMzBxAzczMzMzMIkBmZmZmZqZKQGZmZmZmplZAmpmZmZmZD0DIx+AzJSUXQMP1KFyPwu0/dlmY+kOUTkAGW41XZBBIQIXrUbgeZURAmpmZmZkZNUAzMzMzM5NSQAAAAAAAADRAFK5H4XoUEEDNzMzMzMwfQAAAAAAAABhAZmZmZmZmQUD2KFyPwpVNQD0K16NwvTJAR4WoQz6QC0AQgqh/4KThP76lGc5T4xJAMzMzMzPzSEB7FK5H4bpTQM3MzMzMzOQ/GF/7KV3o7j+amZmZmdlLQM3MzMzMTDBA7FG4HoXr6T8zMzMzM3NHQIrd9WMU8PY/uB6F61E4NECPwvUoXM80QDMzMzMzczRAAAAAAAAAIkDNzMzMzMw+QAAAAAAAgDVAH4XrUbge7T+xq01p3crLPx6SFFqqVxNAj8L1KFyP9j8UrkfhenRVQGZmZmZmhkFAcT0K16NwUUAzMzMzMzMPQKbFIvAo/Ng/FK5H4XoUG0DsUbgehbtVQK5H4XoUrjBAMzMzMzMzG0AK16NwPUo2QJtSrJIhpvw/7FG4HoVrJkAzMzMzMzM5QOF6FK5H4RdAzczMzMxMSEDsUbgehQtFQFyPwvUo3DtAAAAAAACAQkDNzMzMzEw8QGvz5xxQ7ABAB5Dxmvv/EkAT3VbQUy4tQAAAAAAAAD5Aj8L1KFyPG0AzMzMzM5NAQHE9CtejMENAEd5ZReeyzj+amZmZmXlRQGZmZmZm5k5AH4XrUbheTEAAAAAAAAAAQO3L01at9PE/SMfQ2nghIECuR+F6FI5LQArXo3A9Cg9AAAAAAAAAMEBSuB6F61EhQLgehetROCxAZmZmZmZmEEBxPQrXo4BUQM3MzMzMTFNAnhNbxVzKHECamZmZmZn5P0jhehSuBzRAEj+R0O8Kwj+amZmZmZkBQOor550uuBxAZmZmZmYmQECamZmZmRkxQOF6FK5HoTxA/bOdEHSA9j8bC6xeL2ANQDMzMzMzMxpAAAAAAACATkD2KFyPwsVSQAAAAAAAwFJAAAAAAAAAQUBDRtcSYfYdQDMzMzMzMxtAb7Sftt5WO0B7FK5H4XoTQDMzMzMzsyVA\",\"dtype\":\"float64\",\"shape\":[168]},\"y\":[-677497,-252926,-357340,85286,-92,-84998,-136009,-441,1132688,153763,-96798,316544,-3570954,2050,63933,267204,8722,50000,16829,-84003,3677,18730,0,2441,-83002,-125000,163733,-295987,-90000,1229905,-25866,70000,139345,-2202103,-143000,-10000,30339,-220000,-22532,-193998,44166,250889,87989,-19965,-44999,-285671,20000,-160001,-15151,-50132,-28754,71143,480787,-3463,9566,-289534,31640,189259,80157,-4274,-9776,-132000,-55577,-25000,-34129,-138004,-99997,95789,8041,-2829378,-1116994,-457332,198144,273635,1006308,-94999,445267,449998,-35196,-189330,-578,522000,-86168,183370,-24418,175585,-82008,-141659,42279,-5000,-36820,652234,-53,-100823,13525,-20000,-12079,-409596,-47911,-15001,-3108,-577912,-50000,-1466799,-50000,-1023896,55674,4234,62413,-155000,-28497,-300000,174001,185500,-1296372,22244,0,-117299,-489999,-1829034,5235,127025,-138043,854839,-874406,-75001,-15371,-5599,815000,-166051,-38215,-1111,60000,449245,9597,49624,-11896,-350000,1402640,2250005,-520065,-5122,-500000,-5675,-6000,262453,344872,-65435,-265317,-858537,-104946,-9994,-8196,-11303,-32941,-50000,-57048,-135000,235195,3493000,1523939,5070253,-50000,-290000,1135,-6191,-124044,-307650]},\"selected\":{\"id\":\"5fb80f38-3762-4be6-8782-b9ab08358aa1\",\"type\":\"Selection\"},\"selection_policy\":{\"id\":\"055bb99f-ec03-4846-94b6-04db58da8523\",\"type\":\"UnionRenderers\"}},\"id\":\"33d1fa38-5071-4676-b279-af10ce34dfff\",\"type\":\"ColumnDataSource\"},{\"attributes\":{},\"id\":\"8c03d6cc-9609-442c-b795-348d82be4d37\",\"type\":\"BasicTickFormatter\"},{\"attributes\":{\"callback\":null,\"overlay\":{\"id\":\"9cad85b0-140e-4760-8859-217b0acaebf1\",\"type\":\"PolyAnnotation\"}},\"id\":\"19bc255e-b508-44c9-bac9-ca33951df987\",\"type\":\"PolySelectTool\"},{\"attributes\":{\"source\":{\"id\":\"33d1fa38-5071-4676-b279-af10ce34dfff\",\"type\":\"ColumnDataSource\"}},\"id\":\"02d1de9c-aec6-4e43-9861-a075a68e3b3c\",\"type\":\"CDSView\"},{\"attributes\":{\"label\":{\"value\":\"2012\"},\"renderers\":[{\"id\":\"a09969d1-6c0b-4be0-ac6a-a35a93f7e576\",\"type\":\"GlyphRenderer\"}]},\"id\":\"49335761-0164-4200-b856-6e7f8a5fb4e7\",\"type\":\"LegendItem\"},{\"attributes\":{},\"id\":\"f84f62ff-8904-460b-910d-96d9f6831462\",\"type\":\"RedoTool\"},{\"attributes\":{\"callback\":null,\"overlay\":{\"id\":\"5b9a9d35-821b-435f-a3eb-9d11c57ccc07\",\"type\":\"BoxAnnotation\"}},\"id\":\"478cdadc-0369-4825-833e-9e7d8b00dd8b\",\"type\":\"BoxSelectTool\"},{\"attributes\":{\"fill_alpha\":{\"value\":0.5},\"fill_color\":{\"value\":\"lightgrey\"},\"level\":\"overlay\",\"line_alpha\":{\"value\":1.0},\"line_color\":{\"value\":\"black\"},\"line_dash\":[4,4],\"line_width\":{\"value\":2},\"plot\":null,\"xs_units\":\"screen\",\"ys_units\":\"screen\"},\"id\":\"9cad85b0-140e-4760-8859-217b0acaebf1\",\"type\":\"PolyAnnotation\"},{\"attributes\":{\"label\":{\"value\":\"2007\"},\"renderers\":[{\"id\":\"e6383ca1-f9d3-4a56-83d0-d7257f59e13b\",\"type\":\"GlyphRenderer\"}]},\"id\":\"24642c13-93a4-4cb7-ae06-0c93124ead72\",\"type\":\"LegendItem\"},{\"attributes\":{},\"id\":\"2c9afd1e-e8fa-4e59-b564-056606305e00\",\"type\":\"BasicTicker\"},{\"attributes\":{},\"id\":\"055bb99f-ec03-4846-94b6-04db58da8523\",\"type\":\"UnionRenderers\"},{\"attributes\":{\"dimension\":1,\"plot\":{\"id\":\"96272d70-d276-489a-9d9c-d6b3c787da5d\",\"subtype\":\"Figure\",\"type\":\"Plot\"},\"ticker\":{\"id\":\"2c9afd1e-e8fa-4e59-b564-056606305e00\",\"type\":\"BasicTicker\"}},\"id\":\"adee647e-4ec8-4865-9ce2-fd2e8ef0fc3f\",\"type\":\"Grid\"},{\"attributes\":{\"fill_color\":{\"value\":\"#1f77b4\"},\"size\":{\"units\":\"screen\",\"value\":6},\"x\":{\"field\":\"x\"},\"y\":{\"field\":\"y\"}},\"id\":\"65e5f08f-7de4-421b-bdc1-852bce9dc380\",\"type\":\"Circle\"},{\"attributes\":{\"fill_alpha\":{\"value\":0.1},\"fill_color\":{\"value\":\"blue\"},\"line_alpha\":{\"value\":0.1},\"line_color\":{\"value\":\"blue\"},\"size\":{\"units\":\"screen\",\"value\":6},\"x\":{\"field\":\"x\"},\"y\":{\"field\":\"y\"}},\"id\":\"d3895973-463d-4eac-9394-b2c905efa998\",\"type\":\"Circle\"},{\"attributes\":{\"fill_alpha\":{\"value\":0.2},\"fill_color\":{\"value\":\"green\"},\"line_color\":{\"value\":\"green\"},\"size\":{\"units\":\"screen\",\"value\":6},\"x\":{\"field\":\"x\"},\"y\":{\"field\":\"y\"}},\"id\":\"66373bc7-36ec-49e2-af6f-5797824ea100\",\"type\":\"Circle\"},{\"attributes\":{\"fill_alpha\":{\"value\":0.1},\"fill_color\":{\"value\":\"#1f77b4\"},\"line_alpha\":{\"value\":0.1},\"line_color\":{\"value\":\"#1f77b4\"},\"size\":{\"units\":\"screen\",\"value\":6},\"x\":{\"field\":\"x\"},\"y\":{\"field\":\"y\"}},\"id\":\"38ee763c-d322-414e-a68c-ea8b662ebdff\",\"type\":\"Circle\"},{\"attributes\":{},\"id\":\"a373a785-5998-41e0-9ac0-c5b9949c3f4f\",\"type\":\"Selection\"},{\"attributes\":{\"source\":{\"id\":\"e9ed4867-41a4-42fa-906e-fdfd10e48c7e\",\"type\":\"ColumnDataSource\"}},\"id\":\"4883da1f-c478-422e-b051-dabfa9ba874a\",\"type\":\"CDSView\"},{\"attributes\":{},\"id\":\"5bb00f6e-9c85-449d-ba64-a79554731a36\",\"type\":\"PanTool\"},{\"attributes\":{\"data_source\":{\"id\":\"33d1fa38-5071-4676-b279-af10ce34dfff\",\"type\":\"ColumnDataSource\"},\"glyph\":{\"id\":\"66373bc7-36ec-49e2-af6f-5797824ea100\",\"type\":\"Circle\"},\"hover_glyph\":{\"id\":\"65e5f08f-7de4-421b-bdc1-852bce9dc380\",\"type\":\"Circle\"},\"muted_glyph\":{\"id\":\"e21af01a-8667-4080-aca9-96d22382e540\",\"type\":\"Circle\"},\"nonselection_glyph\":{\"id\":\"38ee763c-d322-414e-a68c-ea8b662ebdff\",\"type\":\"Circle\"},\"selection_glyph\":null,\"view\":{\"id\":\"02d1de9c-aec6-4e43-9861-a075a68e3b3c\",\"type\":\"CDSView\"}},\"id\":\"e6383ca1-f9d3-4a56-83d0-d7257f59e13b\",\"type\":\"GlyphRenderer\"},{\"attributes\":{\"overlay\":{\"id\":\"3359ca2a-1968-4eff-b3e7-837c21cde7fc\",\"type\":\"BoxAnnotation\"}},\"id\":\"19be90e4-b475-4607-8c1f-60edb973663e\",\"type\":\"BoxZoomTool\"},{\"attributes\":{},\"id\":\"e89d01ca-2d0b-494c-88e3-f14f12398ab1\",\"type\":\"ZoomInTool\"},{\"attributes\":{},\"id\":\"0f3310d7-e0ef-46e5-9b91-a08146e91fd7\",\"type\":\"UnionRenderers\"},{\"attributes\":{\"source\":{\"id\":\"69424689-0665-4ec8-95e4-725dc75957b6\",\"type\":\"ColumnDataSource\"}},\"id\":\"e502fcc9-cf34-456c-b2f6-b8712344eb11\",\"type\":\"CDSView\"},{\"attributes\":{\"callback\":null,\"renderers\":\"auto\",\"tooltips\":null},\"id\":\"de562f34-1b94-4ee9-a63b-68627f921d62\",\"type\":\"HoverTool\"},{\"attributes\":{\"bottom_units\":\"screen\",\"fill_alpha\":{\"value\":0.5},\"fill_color\":{\"value\":\"lightgrey\"},\"left_units\":\"screen\",\"level\":\"overlay\",\"line_alpha\":{\"value\":1.0},\"line_color\":{\"value\":\"black\"},\"line_dash\":[4,4],\"line_width\":{\"value\":2},\"plot\":null,\"render_mode\":\"css\",\"right_units\":\"screen\",\"top_units\":\"screen\"},\"id\":\"5b9a9d35-821b-435f-a3eb-9d11c57ccc07\",\"type\":\"BoxAnnotation\"},{\"attributes\":{\"fill_alpha\":{\"value\":0.2},\"fill_color\":{\"value\":\"blue\"},\"line_color\":{\"value\":\"blue\"},\"size\":{\"units\":\"screen\",\"value\":6},\"x\":{\"field\":\"x\"},\"y\":{\"field\":\"y\"}},\"id\":\"8ff3b724-f4c4-4242-aa8f-665d86797f70\",\"type\":\"Circle\"},{\"attributes\":{\"label\":{\"value\":\"2002\"},\"renderers\":[{\"id\":\"1c0e7065-478e-4d48-9361-4d3dc82bfc0c\",\"type\":\"GlyphRenderer\"}]},\"id\":\"3c703161-e0a3-4c86-a5ed-b1dca35727b2\",\"type\":\"LegendItem\"},{\"attributes\":{\"fill_alpha\":{\"value\":0.1},\"fill_color\":{\"value\":\"green\"},\"line_alpha\":{\"value\":0.1},\"line_color\":{\"value\":\"green\"},\"size\":{\"units\":\"screen\",\"value\":6},\"x\":{\"field\":\"x\"},\"y\":{\"field\":\"y\"}},\"id\":\"e21af01a-8667-4080-aca9-96d22382e540\",\"type\":\"Circle\"},{\"attributes\":{},\"id\":\"825b3096-cbb4-4401-98e7-b79a39fea45f\",\"type\":\"BasicTickFormatter\"},{\"attributes\":{\"callback\":null,\"data\":{\"x\":{\"__ndarray__\":\"zUUXXXTRFUCTDEB39lNLQGMPS+y/dC5ALv6DAO3vMEAAAAAAAABNQGZmZmZm5ktAAAAAAADAQkAAAAAAAIBSQAAAAAAAwFNAWCOba+sBVECamZmZmRlLQAAAAAAAAFZAAAAAAAAAFEAAAAAAAIBRQBSuR+F6dEdA1n08UxQuVEAAAAAAAAA/QAAAAAAAABJAAAAAAAAAOEDsUbgehatBQKRwPQrXY0pAAAAAAAAAJ0BI4XoUrkdIQJs4mcvzIk5AsdC7yzLzSUBCoCQb38wNQJcWf6kehfM/w/UoXI/CE0A9waZPw8sWQAAAAAAAwFRAH4XrUbheQUBzrM7MzMwAQJ8eqxaGtU5Axs3wP2omRUA9CtejcH1IQMtwUhO05hdAAAAAAADAR0AAAAAAAAAUQAQwTwpR+E5AMzMzMzMzNUA7rpSbTVhOQCRjiT+FW1JA6nItCKQQV0DKf+e/0oggQBg8oXpMkUFAI8dEd0ZSNEDoq7PG6OIrQJqZmZmZmek/t+3ei/SYU0APY7gfl7n3P7UjyosF30BAGvUF41F4VkBcj8L1KFxUQPZ8Wm41cEpAdZFkAMI7IUC4HoXrUXhCQISy/19mllRAMzMzMzMzJUAt0ouL9YhLQAAAAAAAAEBAhiQLVV/ETkAAAAAAAAAwQEpMUZ6h1/c/ygj8jeQmB0AAAAAAAIBAQJqZmZmZmSNAH4XrUbgeMkBfnpOwHqVRQM1kHFttDVhA87x9vv0oKUAK16NwPQotQGZmZmZmZhxA9RFkKOE6U0AzMzMzM7NRQLRyzl896ktAhetRuB7lQEAAb4EExd9TQAAAAAAAgEJA4TOG2GeoSkDNzMzMzAxAQMaYHERcfiVAzczMzMycUUAWfJ4orUdSQNGPefr4n05AK2pXucRbEkDNzMzMzMwEQIcpKCW4zlBAjB3zjMv8VkBmZmZmZmYCQBDpt68DZxFAMzMzMzNzUEA7AU2EDXdDQGZmZmZmZgZAlNOLvcoMUUAAAAAAAAAUQPYoXI/CtUFAAAAAAADgQ0CPwvUoXK9FQGZmZmZmZjBAPFcAOl1rTED1ayE7QbVLQGgibHh6ZRNAJXUCmggb8T+n6Egu/+EpQOqVsgxxTCZAEL5kHQo3V0AAAAAAAABNQAAAAAAAgFRAAAAAAAAAK0BnRGlv8IX2P2ZmZmZmZkBA/4qMPZmpV0AAAAAAAABOQOxRuB6F6yNAlJyqgKQmREAAAAAAAAAMQNejcD0KVz1AmpmZmZkZQ0ASpb3BFx5CQI5nl/2tJ09Av0ajCYUrTkBmaQa3/z9RQDMzMzMzU1FAHYfUpqPwRkBDuLagNgwgQCrG+ZtQ2ClA+zpwzoiSNUAAAAAAAABLQJqZmZmZmSVAzczMzMwMSEB9PzVeuolHQM3MzMzMzPQ/AAAAAAAAUkCUcWR6cC1TQHLjkPtlFlFAIR/0bFb9G0CCc0aU9gb2PwAAAAAAgERAYir/CddzUUBFR3L5D0kyQMP1KFyPwkdAAAAAAAAANUCBBMWPMVdBQOEPKuciyDRAtmhq7IRLV0DNzMzMzExVQIXrUbgeBS1AmpmZmZmZD0D2KFyPwnU6QKHWNO84Re0/AAAAAAAAEEAAAAAAAIBAQPwYc9cSwk1A8fRKWYa4REBxPQrXo5BGQCo6kst/yBxAqaROQBNhLUDD9Shcj6JBQDiCXtz/P1VAkYdPS7jeVUAzMzMzM9NTQGfglRcVOktA0LNZ9blCQkAYBFYOLTIlQDy9UpYhRkRAcvkP6bfvKkDXo3A9ChcxQA==\",\"dtype\":\"float64\",\"shape\":[167]},\"y\":[473007,-91750,-143268,102322,-56,30000,-9876,1253,1023107,147089,-16125,29915,-2226481,2180,120535,269998,7594,-10000,10000,-61794,-2506,20000,15924,2102,-50000,-125000,40000,-149999,-60000,1175863,-11052,100000,201289,-1800000,-144998,-10000,19658,50000,-20000,-79999,35000,29999,96839,-15996,-38001,-240415,20000,-160001,-11850,-60001,-28720,107409,331555,-500,5000,-296323,1249998,-49999,-136299,-4274,0,-120001,-10000,-10000,-27278,-150000,-80000,29999,-378,-2598218,-700000,548666,-140001,19497,528269,-97000,350000,229617,159807,-50000,-2130,517500,-73442,1250000,-19998,-20000,-169529,48704,-5000,-30000,450000,-53,-302449,6252,-20000,0,-523585,-9529,-15001,-2412,-310624,-25000,-474278,-1371,-372369,110006,5660,7265,-135000,-28497,-300000,235665,1211000,-1081918,28105,0,-86700,-240000,-700000,-73809,-140000,-103537,363500,-437201,-75001,-12690,-5599,850000,-99996,-99999,-1551,-21000,397936,1199,4324,-11868,-400000,600000,-593069,-484772,-5000,-800000,-5000,-6000,272626,382267,-117382,-199999,100000,-50004,-9994,-8078,-5000,-32941,2000003,-25001,-150000,195000,405000,900000,5007887,-30000,-195001,603,-3604,-34490,-219922]},\"selected\":{\"id\":\"3e827b7f-492d-443e-9de6-b74df240c9c3\",\"type\":\"Selection\"},\"selection_policy\":{\"id\":\"013d3a8e-7599-44b0-a2d5-f48b151d90f9\",\"type\":\"UnionRenderers\"}},\"id\":\"e9ed4867-41a4-42fa-906e-fdfd10e48c7e\",\"type\":\"ColumnDataSource\"},{\"attributes\":{\"below\":[{\"id\":\"798d6d41-6e8b-4d66-b055-f37b382dfd7d\",\"type\":\"LinearAxis\"}],\"left\":[{\"id\":\"265f2774-0015-490d-b192-b76bf1ce4aa5\",\"type\":\"LinearAxis\"}],\"renderers\":[{\"id\":\"798d6d41-6e8b-4d66-b055-f37b382dfd7d\",\"type\":\"LinearAxis\"},{\"id\":\"74f7ea91-8d59-4a44-93b0-bed88cfe3cb1\",\"type\":\"Grid\"},{\"id\":\"265f2774-0015-490d-b192-b76bf1ce4aa5\",\"type\":\"LinearAxis\"},{\"id\":\"adee647e-4ec8-4865-9ce2-fd2e8ef0fc3f\",\"type\":\"Grid\"},{\"id\":\"3359ca2a-1968-4eff-b3e7-837c21cde7fc\",\"type\":\"BoxAnnotation\"},{\"id\":\"5b9a9d35-821b-435f-a3eb-9d11c57ccc07\",\"type\":\"BoxAnnotation\"},{\"id\":\"9cad85b0-140e-4760-8859-217b0acaebf1\",\"type\":\"PolyAnnotation\"},{\"id\":\"027319e1-4169-4780-b330-f17ab95a3fe5\",\"type\":\"PolyAnnotation\"},{\"id\":\"01d74e5f-adcc-4a00-ba8a-11a04b294119\",\"type\":\"Legend\"},{\"id\":\"1c0e7065-478e-4d48-9361-4d3dc82bfc0c\",\"type\":\"GlyphRenderer\"},{\"id\":\"e6383ca1-f9d3-4a56-83d0-d7257f59e13b\",\"type\":\"GlyphRenderer\"},{\"id\":\"a09969d1-6c0b-4be0-ac6a-a35a93f7e576\",\"type\":\"GlyphRenderer\"}],\"title\":{\"id\":\"38277626-85e7-4fd8-a4fd-d72d4e70da48\",\"type\":\"Title\"},\"toolbar\":{\"id\":\"9aab7183-4444-4f81-a0d2-1f9ac47575ec\",\"type\":\"Toolbar\"},\"x_range\":{\"id\":\"97615746-260c-4ae6-bcba-d18e34990eff\",\"type\":\"DataRange1d\"},\"x_scale\":{\"id\":\"1d4f1541-4777-4928-b2ba-bfb6962323a9\",\"type\":\"LinearScale\"},\"y_range\":{\"id\":\"75638636-c249-482f-a1a2-ec3a41aac8ff\",\"type\":\"DataRange1d\"},\"y_scale\":{\"id\":\"c2071427-410e-45eb-8b8d-72c4ba2b1e29\",\"type\":\"LinearScale\"}},\"id\":\"96272d70-d276-489a-9d9c-d6b3c787da5d\",\"subtype\":\"Figure\",\"type\":\"Plot\"},{\"attributes\":{\"axis_label\":\"Internet Use Percentage\",\"formatter\":{\"id\":\"825b3096-cbb4-4401-98e7-b79a39fea45f\",\"type\":\"BasicTickFormatter\"},\"plot\":{\"id\":\"96272d70-d276-489a-9d9c-d6b3c787da5d\",\"subtype\":\"Figure\",\"type\":\"Plot\"},\"ticker\":{\"id\":\"145478e5-da72-4531-93f7-6fcfa3870bb2\",\"type\":\"BasicTicker\"}},\"id\":\"798d6d41-6e8b-4d66-b055-f37b382dfd7d\",\"type\":\"LinearAxis\"},{\"attributes\":{\"plot\":null,\"text\":\"Internet Use Percentage vs Net Migration\"},\"id\":\"38277626-85e7-4fd8-a4fd-d72d4e70da48\",\"type\":\"Title\"},{\"attributes\":{},\"id\":\"c2071427-410e-45eb-8b8d-72c4ba2b1e29\",\"type\":\"LinearScale\"},{\"attributes\":{\"callback\":null},\"id\":\"75638636-c249-482f-a1a2-ec3a41aac8ff\",\"type\":\"DataRange1d\"},{\"attributes\":{\"active_drag\":\"auto\",\"active_inspect\":\"auto\",\"active_scroll\":\"auto\",\"active_tap\":\"auto\",\"tools\":[{\"id\":\"22ca7606-8083-4edb-8e81-f935e1f639e6\",\"type\":\"HoverTool\"},{\"id\":\"ce9da216-7247-4389-8797-66b78340997c\",\"type\":\"CrosshairTool\"},{\"id\":\"5bb00f6e-9c85-449d-ba64-a79554731a36\",\"type\":\"PanTool\"},{\"id\":\"e89d01ca-2d0b-494c-88e3-f14f12398ab1\",\"type\":\"ZoomInTool\"},{\"id\":\"45a2fb90-8747-4eaa-91be-d69ad6ced764\",\"type\":\"ZoomOutTool\"},{\"id\":\"19be90e4-b475-4607-8c1f-60edb973663e\",\"type\":\"BoxZoomTool\"},{\"id\":\"d35bf4c0-44c5-4828-bee5-c77eb4e10dd0\",\"type\":\"UndoTool\"},{\"id\":\"f84f62ff-8904-460b-910d-96d9f6831462\",\"type\":\"RedoTool\"},{\"id\":\"61b6f66e-1196-47b8-aa01-e0c46cbd119b\",\"type\":\"ResetTool\"},{\"id\":\"807f43c8-6c5f-401b-a1b8-b22434b9120f\",\"type\":\"TapTool\"},{\"id\":\"a5a2d991-a6db-4d7e-87c4-832b50cf66d5\",\"type\":\"SaveTool\"},{\"id\":\"478cdadc-0369-4825-833e-9e7d8b00dd8b\",\"type\":\"BoxSelectTool\"},{\"id\":\"19bc255e-b508-44c9-bac9-ca33951df987\",\"type\":\"PolySelectTool\"},{\"id\":\"2f79a46b-ad58-4ff8-83d8-6579170a69a1\",\"type\":\"LassoSelectTool\"},{\"id\":\"de562f34-1b94-4ee9-a63b-68627f921d62\",\"type\":\"HoverTool\"}]},\"id\":\"9aab7183-4444-4f81-a0d2-1f9ac47575ec\",\"type\":\"Toolbar\"},{\"attributes\":{\"plot\":{\"id\":\"96272d70-d276-489a-9d9c-d6b3c787da5d\",\"subtype\":\"Figure\",\"type\":\"Plot\"},\"ticker\":{\"id\":\"145478e5-da72-4531-93f7-6fcfa3870bb2\",\"type\":\"BasicTicker\"}},\"id\":\"74f7ea91-8d59-4a44-93b0-bed88cfe3cb1\",\"type\":\"Grid\"},{\"attributes\":{\"data_source\":{\"id\":\"e9ed4867-41a4-42fa-906e-fdfd10e48c7e\",\"type\":\"ColumnDataSource\"},\"glyph\":{\"id\":\"8ff3b724-f4c4-4242-aa8f-665d86797f70\",\"type\":\"Circle\"},\"hover_glyph\":{\"id\":\"510ff45f-a4f1-4dd6-a430-acf22db8c982\",\"type\":\"Circle\"},\"muted_glyph\":{\"id\":\"d3895973-463d-4eac-9394-b2c905efa998\",\"type\":\"Circle\"},\"nonselection_glyph\":{\"id\":\"cbc4b69e-24db-4dc8-bd67-5c40f7dc7614\",\"type\":\"Circle\"},\"selection_glyph\":null,\"view\":{\"id\":\"4883da1f-c478-422e-b051-dabfa9ba874a\",\"type\":\"CDSView\"}},\"id\":\"a09969d1-6c0b-4be0-ac6a-a35a93f7e576\",\"type\":\"GlyphRenderer\"}],\"root_ids\":[\"96272d70-d276-489a-9d9c-d6b3c787da5d\"]},\"title\":\"Bokeh Application\",\"version\":\"0.12.16\"}};\n",
       "  var render_items = [{\"docid\":\"4a408b9a-fad0-4c52-a7c6-d8196132106f\",\"elementid\":\"e82cecf9-f140-4d37-a986-3614f67e388d\",\"modelid\":\"96272d70-d276-489a-9d9c-d6b3c787da5d\"}];\n",
       "  root.Bokeh.embed.embed_items_notebook(docs_json, render_items);\n",
       "\n",
       "  }\n",
       "  if (root.Bokeh !== undefined) {\n",
       "    embed_document(root);\n",
       "  } else {\n",
       "    var attempts = 0;\n",
       "    var timer = setInterval(function(root) {\n",
       "      if (root.Bokeh !== undefined) {\n",
       "        embed_document(root);\n",
       "        clearInterval(timer);\n",
       "      }\n",
       "      attempts++;\n",
       "      if (attempts > 100) {\n",
       "        console.log(\"Bokeh: ERROR: Unable to run BokehJS code because BokehJS library is missing\")\n",
       "        clearInterval(timer);\n",
       "      }\n",
       "    }, 10, root)\n",
       "  }\n",
       "})(window);"
      ],
      "application/vnd.bokehjs_exec.v0+json": ""
     },
     "metadata": {
      "application/vnd.bokehjs_exec.v0+json": {
       "id": "96272d70-d276-489a-9d9c-d6b3c787da5d"
      }
     },
     "output_type": "display_data"
    }
   ],
   "source": [
    "# 21\n",
    "TOOLS = 'hover,crosshair,pan,zoom_in,zoom_out,box_zoom,undo,redo,reset, tap,save,box_select,poly_select,lasso_select'\n",
    "p = figure(title = 'Internet Use Percentage vs Net Migration', tools = TOOLS)\n",
    "\n",
    "colors = ['red', 'green', 'blue']\n",
    "\n",
    "for df, yr, clr in zip(dfs_of_interest, years_of_interest, colors):\n",
    "    x = df.Internet_Users_Pct\n",
    "    y = df.Net_Migration\n",
    "    p.circle(x, y, color = clr, legend = str(yr),\n",
    "            fill_alpha = 0.2, size = 6, \n",
    "             muted_color = clr, muted_alpha = 0.1,\n",
    "            hover_alpha = 1, hover_line_color = 'black')\n",
    "\n",
    "p.xaxis.axis_label = 'Internet Use Percentage'\n",
    "p.yaxis.axis_label = 'Net Migration' \n",
    "p.legend.click_policy = 'mute'\n",
    "p.add_tools(HoverTool(tooltips = None))\n",
    "show(p)"
   ]
  },
  {
   "cell_type": "code",
   "execution_count": 30,
   "metadata": {},
   "outputs": [
    {
     "data": {
      "image/png": "[encoded data removed]",
      "text/plain": [
       "<Figure size 432x288 with 1 Axes>"
      ]
     },
     "metadata": {},
     "output_type": "display_data"
    },
    {
     "data": {
      "image/png": "[encoded data removed]",
      "text/plain": [
       "<Figure size 432x288 with 1 Axes>"
      ]
     },
     "metadata": {},
     "output_type": "display_data"
    },
    {
     "data": {
      "image/png": "[encoded data removed]",
      "text/plain": [
       "<Figure size 432x288 with 1 Axes>"
      ]
     },
     "metadata": {},
     "output_type": "display_data"
    }
   ],
   "source": [
    "colors = ['red', 'green', 'blue']\n",
    "for df, color in zip(dfs_of_interest, colors):\n",
    "    df.plot(kind = 'scatter', color = color,\n",
    "            x = 'Internet_Users_Pct', y = 'Net_Migration')\n",
    "plt.show()"
   ]
  },
  {
   "cell_type": "code",
   "execution_count": 31,
   "metadata": {},
   "outputs": [
    {
     "data": {
      "image/png": "[encoded data removed]",
      "text/plain": [
       "<Figure size 648x216 with 3 Axes>"
      ]
     },
     "metadata": {},
     "output_type": "display_data"
    }
   ],
   "source": [
    "f = sns.FacetGrid(subset_df, col = 'Year', hue = 'Country')\n",
    "f = (f.map(plt.scatter, 'Internet_Users_Pct','Net_Migration', edgecolor = 'w'))\n",
    "plt.show()"
   ]
  },
  {
   "cell_type": "markdown",
   "metadata": {},
   "source": [
    "22\n",
    "## There are several differences accross the years\n",
    "### 2002\n",
    "- In 2002 there seems to be a strong correlation between low internet use and low migration (negative migration in fact).\n",
    "- There seem to be only 2 dots with migration above 2 million.\n",
    "    - Of which 1 is approximately 3 million with 20% IU\n",
    "    - And the other is over 5 million with 60% IU\n",
    "- Most of the dots seem to be clustered around low internet use and with low or negative net migration. Specifically between 0 and 20% of internet use.\n",
    "- There are very few dots with negative migration above the 15% IU mark ### 2007\n",
    "- There appears to be a global trend towards increased internet use. While the densest concentration seems to be between 0 and 20 % internet use, there are noticeably more dots along the 20-100 % internet use line\n",
    "- There are still only 2 dots above the 2 million migration mark.\n",
    "    - (60%IU, 3M) approximately\n",
    "    - (80%IU, 5.5M) approximately\n",
    "- The global migration minimum has decreased from <3M to <4M\n",
    "- There are dots with negative migration through the 30% IU mark ### 2012\n",
    "- The correlation between internet use and migration has decreased in magnitude but increased in scope. Now high internet use correlates with positive migration, and vice versa, (where before, the trend was most noticeable with low internet use and low migration.)\n",
    "- There are still only two dots above the 2M migration mark\n",
    "    - Perhaps these are two outlines which buck the general correlationary trend\n",
    "- For 2012, there are dots with negative migration all the way up to the 70% IU mark\n",
    "\n",
    "## 23. the distribution of Net Migration values for 2012 is unimodal, both strictly speaking and even when ignoring the highest outlier. When ignoring the two highest outliers, however, the distribution appears bimodal.\n"
   ]
  },
  {
   "cell_type": "code",
   "execution_count": 56,
   "metadata": {},
   "outputs": [
    {
     "data": {
      "image/png": "[encoded data removed]",
      "text/plain": [
       "<Figure size 432x288 with 1 Axes>"
      ]
     },
     "metadata": {},
     "output_type": "display_data"
    }
   ],
   "source": [
    "plt.hist(df2012.Net_Migration, bins = 50)\n",
    "plt.title(\"2012 Net Migration Histogram\")\n",
    "plt.show()"
   ]
  },
  {
   "cell_type": "code",
   "execution_count": 58,
   "metadata": {},
   "outputs": [
    {
     "data": {
      "image/png": "[encoded data removed]",
      "text/plain": [
       "<Figure size 432x288 with 1 Axes>"
      ]
     },
     "metadata": {},
     "output_type": "display_data"
    }
   ],
   "source": [
    "plt.hist(df2012.Internet_Users_Pct, bins = 20)\n",
    "plt.title(\"2012 Internet Users Percentage Histogram\")\n",
    "plt.show()"
   ]
  },
  {
   "cell_type": "markdown",
   "metadata": {},
   "source": [
    "## 24 The distribution of internet use for 2012 is unimodal\n",
    "\n",
    "## 25 The top 5 countries in terms of internet use in per year are:"
   ]
  },
  {
   "cell_type": "code",
   "execution_count": 59,
   "metadata": {},
   "outputs": [
    {
     "data": {
      "text/html": [
       "<div>\n",
       "<style scoped>\n",
       "    .dataframe tbody tr th:only-of-type {\n",
       "        vertical-align: middle;\n",
       "    }\n",
       "\n",
       "    .dataframe tbody tr th {\n",
       "        vertical-align: top;\n",
       "    }\n",
       "\n",
       "    .dataframe thead th {\n",
       "        text-align: right;\n",
       "    }\n",
       "</style>\n",
       "<table border=\"1\" class=\"dataframe\">\n",
       "  <thead>\n",
       "    <tr style=\"text-align: right;\">\n",
       "      <th></th>\n",
       "      <th>Country</th>\n",
       "      <th>Year</th>\n",
       "      <th>Net_Migration</th>\n",
       "      <th>Internet_Users_Pct</th>\n",
       "    </tr>\n",
       "  </thead>\n",
       "  <tbody>\n",
       "    <tr>\n",
       "      <th>294</th>\n",
       "      <td>Iceland</td>\n",
       "      <td>2012</td>\n",
       "      <td>-378</td>\n",
       "      <td>96.209800</td>\n",
       "    </tr>\n",
       "    <tr>\n",
       "      <th>479</th>\n",
       "      <td>Norway</td>\n",
       "      <td>2012</td>\n",
       "      <td>235665</td>\n",
       "      <td>94.649978</td>\n",
       "    </tr>\n",
       "    <tr>\n",
       "      <th>614</th>\n",
       "      <td>Sweden</td>\n",
       "      <td>2012</td>\n",
       "      <td>272626</td>\n",
       "      <td>93.179988</td>\n",
       "    </tr>\n",
       "    <tr>\n",
       "      <th>453</th>\n",
       "      <td>Netherlands</td>\n",
       "      <td>2012</td>\n",
       "      <td>110006</td>\n",
       "      <td>92.859992</td>\n",
       "    </tr>\n",
       "    <tr>\n",
       "      <th>180</th>\n",
       "      <td>Denmark</td>\n",
       "      <td>2012</td>\n",
       "      <td>96839</td>\n",
       "      <td>92.260012</td>\n",
       "    </tr>\n",
       "  </tbody>\n",
       "</table>\n",
       "</div>"
      ],
      "text/plain": [
       "         Country  Year  Net_Migration  Internet_Users_Pct\n",
       "294      Iceland  2012           -378           96.209800\n",
       "479       Norway  2012         235665           94.649978\n",
       "614       Sweden  2012         272626           93.179988\n",
       "453  Netherlands  2012         110006           92.859992\n",
       "180      Denmark  2012          96839           92.260012"
      ]
     },
     "execution_count": 59,
     "metadata": {},
     "output_type": "execute_result"
    }
   ],
   "source": [
    "df2012.sort_values(by = \"Internet_Users_Pct\", ascending = False).head(5)"
   ]
  },
  {
   "cell_type": "code",
   "execution_count": 60,
   "metadata": {},
   "outputs": [
    {
     "data": {
      "text/html": [
       "<div>\n",
       "<style scoped>\n",
       "    .dataframe tbody tr th:only-of-type {\n",
       "        vertical-align: middle;\n",
       "    }\n",
       "\n",
       "    .dataframe tbody tr th {\n",
       "        vertical-align: top;\n",
       "    }\n",
       "\n",
       "    .dataframe thead th {\n",
       "        text-align: right;\n",
       "    }\n",
       "</style>\n",
       "<table border=\"1\" class=\"dataframe\">\n",
       "  <thead>\n",
       "    <tr style=\"text-align: right;\">\n",
       "      <th></th>\n",
       "      <th>Country</th>\n",
       "      <th>Year</th>\n",
       "      <th>Net_Migration</th>\n",
       "      <th>Internet_Users_Pct</th>\n",
       "    </tr>\n",
       "  </thead>\n",
       "  <tbody>\n",
       "    <tr>\n",
       "      <th>295</th>\n",
       "      <td>Iceland</td>\n",
       "      <td>2007</td>\n",
       "      <td>8041</td>\n",
       "      <td>90.60</td>\n",
       "    </tr>\n",
       "    <tr>\n",
       "      <th>480</th>\n",
       "      <td>Norway</td>\n",
       "      <td>2007</td>\n",
       "      <td>174001</td>\n",
       "      <td>86.93</td>\n",
       "    </tr>\n",
       "    <tr>\n",
       "      <th>454</th>\n",
       "      <td>Netherlands</td>\n",
       "      <td>2007</td>\n",
       "      <td>55674</td>\n",
       "      <td>85.82</td>\n",
       "    </tr>\n",
       "    <tr>\n",
       "      <th>181</th>\n",
       "      <td>Denmark</td>\n",
       "      <td>2007</td>\n",
       "      <td>87989</td>\n",
       "      <td>85.03</td>\n",
       "    </tr>\n",
       "    <tr>\n",
       "      <th>615</th>\n",
       "      <td>Sweden</td>\n",
       "      <td>2007</td>\n",
       "      <td>262453</td>\n",
       "      <td>82.01</td>\n",
       "    </tr>\n",
       "  </tbody>\n",
       "</table>\n",
       "</div>"
      ],
      "text/plain": [
       "         Country  Year  Net_Migration  Internet_Users_Pct\n",
       "295      Iceland  2007           8041               90.60\n",
       "480       Norway  2007         174001               86.93\n",
       "454  Netherlands  2007          55674               85.82\n",
       "181      Denmark  2007          87989               85.03\n",
       "615       Sweden  2007         262453               82.01"
      ]
     },
     "execution_count": 60,
     "metadata": {},
     "output_type": "execute_result"
    }
   ],
   "source": [
    "df2007.sort_values(by = 'Internet_Users_Pct', ascending = False).head(5)"
   ]
  },
  {
   "cell_type": "code",
   "execution_count": 61,
   "metadata": {},
   "outputs": [
    {
     "data": {
      "text/html": [
       "<div>\n",
       "<style scoped>\n",
       "    .dataframe tbody tr th:only-of-type {\n",
       "        vertical-align: middle;\n",
       "    }\n",
       "\n",
       "    .dataframe tbody tr th {\n",
       "        vertical-align: top;\n",
       "    }\n",
       "\n",
       "    .dataframe thead th {\n",
       "        text-align: right;\n",
       "    }\n",
       "</style>\n",
       "<table border=\"1\" class=\"dataframe\">\n",
       "  <thead>\n",
       "    <tr style=\"text-align: right;\">\n",
       "      <th></th>\n",
       "      <th>Country</th>\n",
       "      <th>Year</th>\n",
       "      <th>Net_Migration</th>\n",
       "      <th>Internet_Users_Pct</th>\n",
       "    </tr>\n",
       "  </thead>\n",
       "  <tbody>\n",
       "    <tr>\n",
       "      <th>296</th>\n",
       "      <td>Iceland</td>\n",
       "      <td>2002</td>\n",
       "      <td>3894</td>\n",
       "      <td>79.120000</td>\n",
       "    </tr>\n",
       "    <tr>\n",
       "      <th>481</th>\n",
       "      <td>Norway</td>\n",
       "      <td>2002</td>\n",
       "      <td>67400</td>\n",
       "      <td>72.840000</td>\n",
       "    </tr>\n",
       "    <tr>\n",
       "      <th>616</th>\n",
       "      <td>Sweden</td>\n",
       "      <td>2002</td>\n",
       "      <td>141723</td>\n",
       "      <td>70.570000</td>\n",
       "    </tr>\n",
       "    <tr>\n",
       "      <th>182</th>\n",
       "      <td>Denmark</td>\n",
       "      <td>2002</td>\n",
       "      <td>46306</td>\n",
       "      <td>64.250000</td>\n",
       "    </tr>\n",
       "    <tr>\n",
       "      <th>221</th>\n",
       "      <td>Finland</td>\n",
       "      <td>2002</td>\n",
       "      <td>31935</td>\n",
       "      <td>62.430000</td>\n",
       "    </tr>\n",
       "    <tr>\n",
       "      <th>126</th>\n",
       "      <td>Canada</td>\n",
       "      <td>2002</td>\n",
       "      <td>1026702</td>\n",
       "      <td>61.593299</td>\n",
       "    </tr>\n",
       "    <tr>\n",
       "      <th>621</th>\n",
       "      <td>Switzerland</td>\n",
       "      <td>2002</td>\n",
       "      <td>186125</td>\n",
       "      <td>61.400000</td>\n",
       "    </tr>\n",
       "  </tbody>\n",
       "</table>\n",
       "</div>"
      ],
      "text/plain": [
       "         Country  Year  Net_Migration  Internet_Users_Pct\n",
       "296      Iceland  2002           3894           79.120000\n",
       "481       Norway  2002          67400           72.840000\n",
       "616       Sweden  2002         141723           70.570000\n",
       "182      Denmark  2002          46306           64.250000\n",
       "221      Finland  2002          31935           62.430000\n",
       "126       Canada  2002        1026702           61.593299\n",
       "621  Switzerland  2002         186125           61.400000"
      ]
     },
     "execution_count": 61,
     "metadata": {},
     "output_type": "execute_result"
    }
   ],
   "source": [
    "df2002.sort_values(by = 'Internet_Users_Pct', ascending = False).head(7)"
   ]
  },
  {
   "cell_type": "code",
   "execution_count": 62,
   "metadata": {},
   "outputs": [],
   "source": [
    "top5_2012 = df2012.sort_values(by = 'Internet_Users_Pct', ascending=False,).head(5)\n",
    "top5_2007 = df2007.sort_values(by = 'Internet_Users_Pct', ascending = False).head(5)\n",
    "top7_2002 = df2002.sort_values(by = 'Internet_Users_Pct', ascending = False).head(7)\n",
    "top_5_internet_diachronic = merged_dfs.query('Country == \"Iceland\" or Country == \"Norway\" or Country == \"Sweden\" or Country == \"Denmark\" or Country == \"Switzerland\"')\n",
    "# 26\n",
    "top_5_internet = top_5_internet_diachronic.query('Year == \"2002\" or Year == \"2007\" or Year == \"2012\"')"
   ]
  },
  {
   "cell_type": "markdown",
   "metadata": {},
   "source": [
    "## Visualize the diachronic change of Internet Users Percentage for the top five internet using countries"
   ]
  },
  {
   "cell_type": "code",
   "execution_count": 63,
   "metadata": {},
   "outputs": [
    {
     "data": {
      "text/plain": [
       "<seaborn.axisgrid.FacetGrid at 0x1a23a06da0>"
      ]
     },
     "execution_count": 63,
     "metadata": {},
     "output_type": "execute_result"
    },
    {
     "data": {
      "image/png": "[encoded data removed]",
      "text/plain": [
       "<Figure size 1080x216 with 5 Axes>"
      ]
     },
     "metadata": {},
     "output_type": "display_data"
    }
   ],
   "source": [
    "# 27\n",
    "top5_grid = sns.FacetGrid(top_5_internet, col = \"Country\")\n",
    "top5_grid.map(plt.plot, \"Year\", \"Internet_Users_Pct\", marker = 'o')"
   ]
  },
  {
   "cell_type": "markdown",
   "metadata": {},
   "source": [
    "## Visualize the diachronic change of Internet Users Percentage for the bottom five internet using countries"
   ]
  },
  {
   "cell_type": "code",
   "execution_count": 64,
   "metadata": {},
   "outputs": [
    {
     "data": {
      "text/html": [
       "<div>\n",
       "<style scoped>\n",
       "    .dataframe tbody tr th:only-of-type {\n",
       "        vertical-align: middle;\n",
       "    }\n",
       "\n",
       "    .dataframe tbody tr th {\n",
       "        vertical-align: top;\n",
       "    }\n",
       "\n",
       "    .dataframe thead th {\n",
       "        text-align: right;\n",
       "    }\n",
       "</style>\n",
       "<table border=\"1\" class=\"dataframe\">\n",
       "  <thead>\n",
       "    <tr style=\"text-align: right;\">\n",
       "      <th></th>\n",
       "      <th>Country</th>\n",
       "      <th>Year</th>\n",
       "      <th>Net_Migration</th>\n",
       "      <th>Internet_Users_Pct</th>\n",
       "    </tr>\n",
       "  </thead>\n",
       "  <tbody>\n",
       "    <tr>\n",
       "      <th>202</th>\n",
       "      <td>Eritrea</td>\n",
       "      <td>2012</td>\n",
       "      <td>-160001</td>\n",
       "      <td>0.8000</td>\n",
       "    </tr>\n",
       "    <tr>\n",
       "      <th>639</th>\n",
       "      <td>Timor-Leste</td>\n",
       "      <td>2012</td>\n",
       "      <td>-50004</td>\n",
       "      <td>0.9147</td>\n",
       "    </tr>\n",
       "    <tr>\n",
       "      <th>441</th>\n",
       "      <td>Myanmar</td>\n",
       "      <td>2012</td>\n",
       "      <td>-474278</td>\n",
       "      <td>1.0691</td>\n",
       "    </tr>\n",
       "    <tr>\n",
       "      <th>108</th>\n",
       "      <td>Burundi</td>\n",
       "      <td>2012</td>\n",
       "      <td>40000</td>\n",
       "      <td>1.2200</td>\n",
       "    </tr>\n",
       "    <tr>\n",
       "      <th>559</th>\n",
       "      <td>Sierra Leone</td>\n",
       "      <td>2012</td>\n",
       "      <td>-21000</td>\n",
       "      <td>1.3000</td>\n",
       "    </tr>\n",
       "  </tbody>\n",
       "</table>\n",
       "</div>"
      ],
      "text/plain": [
       "          Country  Year  Net_Migration  Internet_Users_Pct\n",
       "202       Eritrea  2012        -160001              0.8000\n",
       "639   Timor-Leste  2012         -50004              0.9147\n",
       "441       Myanmar  2012        -474278              1.0691\n",
       "108       Burundi  2012          40000              1.2200\n",
       "559  Sierra Leone  2012         -21000              1.3000"
      ]
     },
     "execution_count": 64,
     "metadata": {},
     "output_type": "execute_result"
    }
   ],
   "source": [
    "df2012.sort_values(by = 'Internet_Users_Pct', ascending=True,).head(5)"
   ]
  },
  {
   "cell_type": "code",
   "execution_count": 67,
   "metadata": {},
   "outputs": [],
   "source": [
    "lowest_5_2012internet_diachronic = merged_dfs.query('Country == \"Eritrea\" or Country == \"Timor-Leste\" or Country == \"Myanmar\" or Country == \"Burundi\" or Country == \"Sierra Leone\"')"
   ]
  },
  {
   "cell_type": "code",
   "execution_count": 68,
   "metadata": {},
   "outputs": [],
   "source": [
    "lowest_5_2012internet = lowest_5_2012internet_diachronic.query('Year == \"2002\" or Year == \"2007\" or Year == \"2012\"')"
   ]
  },
  {
   "cell_type": "code",
   "execution_count": 69,
   "metadata": {},
   "outputs": [
    {
     "data": {
      "text/plain": [
       "<seaborn.axisgrid.FacetGrid at 0x1a23cf5f28>"
      ]
     },
     "execution_count": 69,
     "metadata": {},
     "output_type": "execute_result"
    },
    {
     "data": {
      "image/png": "[encoded data removed]",
      "text/plain": [
       "<Figure size 1080x216 with 5 Axes>"
      ]
     },
     "metadata": {},
     "output_type": "display_data"
    }
   ],
   "source": [
    "lowest_5grid = sns.FacetGrid(lowest_5_2012internet, col = \"Country\")\n",
    "lowest_5grid.map(plt.plot, \"Year\", \"Internet_Users_Pct\", marker = 'o')"
   ]
  },
  {
   "cell_type": "code",
   "execution_count": null,
   "metadata": {},
   "outputs": [],
   "source": []
  }
 ],
 "metadata": {
  "kernelspec": {
   "display_name": "Python 3",
   "language": "python",
   "name": "python3"
  }
 },
 "nbformat": 4,
 "nbformat_minor": 2
}
